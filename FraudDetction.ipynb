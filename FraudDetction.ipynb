{
 "cells": [
  {
   "cell_type": "markdown",
   "id": "cc86c4d0-7420-4238-a4fd-e2c77384cb8c",
   "metadata": {},
   "source": [
    "# Fraud Detection System\n"
   ]
  },
  {
   "cell_type": "markdown",
   "id": "99add4a3-975f-468b-a443-92b2c4eeb153",
   "metadata": {},
   "source": [
    "This project focuses on detecting fraud in mobile money transactions, particularly cases where fraudsters deceive victims through phone calls by offering extra money and manipulating them into making transactions. The dataset contains records of various transactions, distinguishing between genuine and fraudulent ones. Our company aims to develop a machine learning model that can identify fraud in real-time, helping prevent financial losses and ensuring user safety. To achieve this, we will analyze transaction patterns, uncover key fraud indicators, and build a robust model capable of detecting fraudulent activities before they occur."
   ]
  },
  {
   "cell_type": "code",
   "execution_count": 1,
   "id": "349686f1-eedf-462b-afe3-52b79e5f19cb",
   "metadata": {},
   "outputs": [],
   "source": [
    "import pandas as pd"
   ]
  },
  {
   "cell_type": "code",
   "execution_count": 2,
   "id": "82f4bdef-7ffa-4343-9406-8ab3846a41ad",
   "metadata": {},
   "outputs": [
    {
     "data": {
      "text/html": [
       "<div>\n",
       "<style scoped>\n",
       "    .dataframe tbody tr th:only-of-type {\n",
       "        vertical-align: middle;\n",
       "    }\n",
       "\n",
       "    .dataframe tbody tr th {\n",
       "        vertical-align: top;\n",
       "    }\n",
       "\n",
       "    .dataframe thead th {\n",
       "        text-align: right;\n",
       "    }\n",
       "</style>\n",
       "<table border=\"1\" class=\"dataframe\">\n",
       "  <thead>\n",
       "    <tr style=\"text-align: right;\">\n",
       "      <th></th>\n",
       "      <th>step</th>\n",
       "      <th>type</th>\n",
       "      <th>amount</th>\n",
       "      <th>nameOrig</th>\n",
       "      <th>oldbalanceOrg</th>\n",
       "      <th>newbalanceOrig</th>\n",
       "      <th>nameDest</th>\n",
       "      <th>oldbalanceDest</th>\n",
       "      <th>newbalanceDest</th>\n",
       "      <th>isFraud</th>\n",
       "    </tr>\n",
       "  </thead>\n",
       "  <tbody>\n",
       "    <tr>\n",
       "      <th>0</th>\n",
       "      <td>1</td>\n",
       "      <td>TRANSFER</td>\n",
       "      <td>181.00</td>\n",
       "      <td>C1305486145</td>\n",
       "      <td>181.00</td>\n",
       "      <td>0.00</td>\n",
       "      <td>C553264065</td>\n",
       "      <td>0.00</td>\n",
       "      <td>0.00</td>\n",
       "      <td>1</td>\n",
       "    </tr>\n",
       "    <tr>\n",
       "      <th>1</th>\n",
       "      <td>1</td>\n",
       "      <td>CASH_OUT</td>\n",
       "      <td>181.00</td>\n",
       "      <td>C840083671</td>\n",
       "      <td>181.00</td>\n",
       "      <td>0.00</td>\n",
       "      <td>C38997010</td>\n",
       "      <td>21182.00</td>\n",
       "      <td>0.00</td>\n",
       "      <td>1</td>\n",
       "    </tr>\n",
       "    <tr>\n",
       "      <th>2</th>\n",
       "      <td>1</td>\n",
       "      <td>TRANSFER</td>\n",
       "      <td>2806.00</td>\n",
       "      <td>C1420196421</td>\n",
       "      <td>2806.00</td>\n",
       "      <td>0.00</td>\n",
       "      <td>C972765878</td>\n",
       "      <td>0.00</td>\n",
       "      <td>0.00</td>\n",
       "      <td>1</td>\n",
       "    </tr>\n",
       "    <tr>\n",
       "      <th>3</th>\n",
       "      <td>1</td>\n",
       "      <td>CASH_OUT</td>\n",
       "      <td>2806.00</td>\n",
       "      <td>C2101527076</td>\n",
       "      <td>2806.00</td>\n",
       "      <td>0.00</td>\n",
       "      <td>C1007251739</td>\n",
       "      <td>26202.00</td>\n",
       "      <td>0.00</td>\n",
       "      <td>1</td>\n",
       "    </tr>\n",
       "    <tr>\n",
       "      <th>4</th>\n",
       "      <td>1</td>\n",
       "      <td>TRANSFER</td>\n",
       "      <td>20128.00</td>\n",
       "      <td>C137533655</td>\n",
       "      <td>20128.00</td>\n",
       "      <td>0.00</td>\n",
       "      <td>C1848415041</td>\n",
       "      <td>0.00</td>\n",
       "      <td>0.00</td>\n",
       "      <td>1</td>\n",
       "    </tr>\n",
       "    <tr>\n",
       "      <th>...</th>\n",
       "      <td>...</td>\n",
       "      <td>...</td>\n",
       "      <td>...</td>\n",
       "      <td>...</td>\n",
       "      <td>...</td>\n",
       "      <td>...</td>\n",
       "      <td>...</td>\n",
       "      <td>...</td>\n",
       "      <td>...</td>\n",
       "      <td>...</td>\n",
       "    </tr>\n",
       "    <tr>\n",
       "      <th>11137</th>\n",
       "      <td>7</td>\n",
       "      <td>DEBIT</td>\n",
       "      <td>6393.71</td>\n",
       "      <td>C1331144930</td>\n",
       "      <td>433084.38</td>\n",
       "      <td>426690.68</td>\n",
       "      <td>C684896216</td>\n",
       "      <td>478421.00</td>\n",
       "      <td>210535.25</td>\n",
       "      <td>0</td>\n",
       "    </tr>\n",
       "    <tr>\n",
       "      <th>11138</th>\n",
       "      <td>7</td>\n",
       "      <td>CASH_OUT</td>\n",
       "      <td>298799.54</td>\n",
       "      <td>C932023579</td>\n",
       "      <td>426690.68</td>\n",
       "      <td>127891.14</td>\n",
       "      <td>C1761353343</td>\n",
       "      <td>704355.36</td>\n",
       "      <td>5270364.19</td>\n",
       "      <td>0</td>\n",
       "    </tr>\n",
       "    <tr>\n",
       "      <th>11139</th>\n",
       "      <td>7</td>\n",
       "      <td>CASH_OUT</td>\n",
       "      <td>423159.63</td>\n",
       "      <td>C61395726</td>\n",
       "      <td>127891.14</td>\n",
       "      <td>0.00</td>\n",
       "      <td>C1298316171</td>\n",
       "      <td>610479.00</td>\n",
       "      <td>749621.53</td>\n",
       "      <td>0</td>\n",
       "    </tr>\n",
       "    <tr>\n",
       "      <th>11140</th>\n",
       "      <td>7</td>\n",
       "      <td>PAYMENT</td>\n",
       "      <td>1094.03</td>\n",
       "      <td>C1224570697</td>\n",
       "      <td>13918.00</td>\n",
       "      <td>12823.97</td>\n",
       "      <td>M983553548</td>\n",
       "      <td>0.00</td>\n",
       "      <td>0.00</td>\n",
       "      <td>0</td>\n",
       "    </tr>\n",
       "    <tr>\n",
       "      <th>11141</th>\n",
       "      <td>7</td>\n",
       "      <td>PAYMENT</td>\n",
       "      <td>9235.58</td>\n",
       "      <td>C1637966097</td>\n",
       "      <td>39963.00</td>\n",
       "      <td>30727.42</td>\n",
       "      <td>M609545864</td>\n",
       "      <td>0.00</td>\n",
       "      <td>0.00</td>\n",
       "      <td>0</td>\n",
       "    </tr>\n",
       "  </tbody>\n",
       "</table>\n",
       "<p>11142 rows × 10 columns</p>\n",
       "</div>"
      ],
      "text/plain": [
       "       step      type     amount     nameOrig  oldbalanceOrg  newbalanceOrig  \\\n",
       "0         1  TRANSFER     181.00  C1305486145         181.00            0.00   \n",
       "1         1  CASH_OUT     181.00   C840083671         181.00            0.00   \n",
       "2         1  TRANSFER    2806.00  C1420196421        2806.00            0.00   \n",
       "3         1  CASH_OUT    2806.00  C2101527076        2806.00            0.00   \n",
       "4         1  TRANSFER   20128.00   C137533655       20128.00            0.00   \n",
       "...     ...       ...        ...          ...            ...             ...   \n",
       "11137     7     DEBIT    6393.71  C1331144930      433084.38       426690.68   \n",
       "11138     7  CASH_OUT  298799.54   C932023579      426690.68       127891.14   \n",
       "11139     7  CASH_OUT  423159.63    C61395726      127891.14            0.00   \n",
       "11140     7   PAYMENT    1094.03  C1224570697       13918.00        12823.97   \n",
       "11141     7   PAYMENT    9235.58  C1637966097       39963.00        30727.42   \n",
       "\n",
       "          nameDest  oldbalanceDest  newbalanceDest  isFraud  \n",
       "0       C553264065            0.00            0.00        1  \n",
       "1        C38997010        21182.00            0.00        1  \n",
       "2       C972765878            0.00            0.00        1  \n",
       "3      C1007251739        26202.00            0.00        1  \n",
       "4      C1848415041            0.00            0.00        1  \n",
       "...            ...             ...             ...      ...  \n",
       "11137   C684896216       478421.00       210535.25        0  \n",
       "11138  C1761353343       704355.36      5270364.19        0  \n",
       "11139  C1298316171       610479.00       749621.53        0  \n",
       "11140   M983553548            0.00            0.00        0  \n",
       "11141   M609545864            0.00            0.00        0  \n",
       "\n",
       "[11142 rows x 10 columns]"
      ]
     },
     "execution_count": 2,
     "metadata": {},
     "output_type": "execute_result"
    }
   ],
   "source": [
    "data = pd.read_csv('Fraud_Analysis_Dataset.csv')\n",
    "data"
   ]
  },
  {
   "cell_type": "markdown",
   "id": "6616a6d3-a84d-409c-bb78-a96e2a8ed1c3",
   "metadata": {},
   "source": [
    "# Overview"
   ]
  },
  {
   "cell_type": "markdown",
   "id": "27f9909c-25db-4137-804d-be8fc8304e5c",
   "metadata": {},
   "source": [
    "step: Represents time in hours since the simulation started.\n",
    "    \n",
    "type: The type of transaction (CASH-IN, CASH-OUT, DEBIT, PAYMENT, TRANSFER).\n",
    "\n",
    "amount: The transaction amount in local currency. means how much money detect from account\n",
    "\n",
    "nameOrig: The customer who initiated the transaction.users ID LIKE account number\n",
    "\n",
    "oldbalanceOrg: The sender's account balance before the transaction. \n",
    "\n",
    "newbalanceOrig: The sender's account balance after the transaction.\n",
    "\n",
    "nameDest: The recipient of the transaction.resiver ID LIKE account number\n",
    "\n",
    "oldbalanceDest - initial balance recipient before the transaction. Note that there is not information for customers that start with M (Merchants). Receiver oldbalance \n",
    "\n",
    "newbalanceDest - new balance recipient after the transaction. Note that there is not information for customers that start with M (Merchants). Receiver newbalance\n",
    "\n",
    "isFraud: Indicates whether the transaction was fraudulent (1) or not (0)."
   ]
  },
  {
   "cell_type": "markdown",
   "id": "01d80f1e-0a95-439a-91fa-89a5b2615aab",
   "metadata": {},
   "source": [
    "Each row in the data represents a user's transaction, including details like transaction type, amount, and account balance before and after the transaction. The final transaction recorded for a user is the one that resulted in fraud.\n",
    "\n",
    "By building a model, we can identify fraudulent transactions before they occur, helping to prevent fraud and reduce financial losses for the company. The model can predict suspicious transactions in real-time and take preventive actions, such as sending alerts or warning messages to users, discouraging them from proceeding with the transaction and protecting them from fraud.\n",
    "\n",
    "Outliers are important in fraud detection because fraudulent transactions often have unusual patterns that differ from normal transactions. Removing outliers may eliminate key fraud indicators, making the model less effective in identifying fraudulent activities."
   ]
  },
  {
   "cell_type": "markdown",
   "id": "01928169-6c93-42ba-82a2-b0284a0a6707",
   "metadata": {},
   "source": [
    "#First, we will check if there are any duplicate rows in the data.\n",
    "\n",
    "\n",
    "\n",
    "\n",
    "\n",
    "\n"
   ]
  },
  {
   "cell_type": "code",
   "execution_count": 3,
   "id": "adc600a6-0bc8-4651-b243-fec201b9f258",
   "metadata": {},
   "outputs": [
    {
     "data": {
      "text/plain": [
       "0"
      ]
     },
     "execution_count": 3,
     "metadata": {},
     "output_type": "execute_result"
    }
   ],
   "source": [
    "data.duplicated().sum()"
   ]
  },
  {
   "cell_type": "code",
   "execution_count": 4,
   "id": "fdff2e7f-35d8-4d73-a595-2af3271936b7",
   "metadata": {},
   "outputs": [
    {
     "data": {
      "text/html": [
       "<div>\n",
       "<style scoped>\n",
       "    .dataframe tbody tr th:only-of-type {\n",
       "        vertical-align: middle;\n",
       "    }\n",
       "\n",
       "    .dataframe tbody tr th {\n",
       "        vertical-align: top;\n",
       "    }\n",
       "\n",
       "    .dataframe thead th {\n",
       "        text-align: right;\n",
       "    }\n",
       "</style>\n",
       "<table border=\"1\" class=\"dataframe\">\n",
       "  <thead>\n",
       "    <tr style=\"text-align: right;\">\n",
       "      <th></th>\n",
       "      <th>step</th>\n",
       "      <th>type</th>\n",
       "      <th>amount</th>\n",
       "      <th>nameOrig</th>\n",
       "      <th>oldbalanceOrg</th>\n",
       "      <th>newbalanceOrig</th>\n",
       "      <th>nameDest</th>\n",
       "      <th>oldbalanceDest</th>\n",
       "      <th>newbalanceDest</th>\n",
       "      <th>isFraud</th>\n",
       "    </tr>\n",
       "  </thead>\n",
       "  <tbody>\n",
       "    <tr>\n",
       "      <th>0</th>\n",
       "      <td>1</td>\n",
       "      <td>TRANSFER</td>\n",
       "      <td>181.0</td>\n",
       "      <td>C1305486145</td>\n",
       "      <td>181.0</td>\n",
       "      <td>0.0</td>\n",
       "      <td>C553264065</td>\n",
       "      <td>0.0</td>\n",
       "      <td>0.0</td>\n",
       "      <td>1</td>\n",
       "    </tr>\n",
       "    <tr>\n",
       "      <th>1</th>\n",
       "      <td>1</td>\n",
       "      <td>CASH_OUT</td>\n",
       "      <td>181.0</td>\n",
       "      <td>C840083671</td>\n",
       "      <td>181.0</td>\n",
       "      <td>0.0</td>\n",
       "      <td>C38997010</td>\n",
       "      <td>21182.0</td>\n",
       "      <td>0.0</td>\n",
       "      <td>1</td>\n",
       "    </tr>\n",
       "    <tr>\n",
       "      <th>2</th>\n",
       "      <td>1</td>\n",
       "      <td>TRANSFER</td>\n",
       "      <td>2806.0</td>\n",
       "      <td>C1420196421</td>\n",
       "      <td>2806.0</td>\n",
       "      <td>0.0</td>\n",
       "      <td>C972765878</td>\n",
       "      <td>0.0</td>\n",
       "      <td>0.0</td>\n",
       "      <td>1</td>\n",
       "    </tr>\n",
       "    <tr>\n",
       "      <th>3</th>\n",
       "      <td>1</td>\n",
       "      <td>CASH_OUT</td>\n",
       "      <td>2806.0</td>\n",
       "      <td>C2101527076</td>\n",
       "      <td>2806.0</td>\n",
       "      <td>0.0</td>\n",
       "      <td>C1007251739</td>\n",
       "      <td>26202.0</td>\n",
       "      <td>0.0</td>\n",
       "      <td>1</td>\n",
       "    </tr>\n",
       "    <tr>\n",
       "      <th>4</th>\n",
       "      <td>1</td>\n",
       "      <td>TRANSFER</td>\n",
       "      <td>20128.0</td>\n",
       "      <td>C137533655</td>\n",
       "      <td>20128.0</td>\n",
       "      <td>0.0</td>\n",
       "      <td>C1848415041</td>\n",
       "      <td>0.0</td>\n",
       "      <td>0.0</td>\n",
       "      <td>1</td>\n",
       "    </tr>\n",
       "  </tbody>\n",
       "</table>\n",
       "</div>"
      ],
      "text/plain": [
       "   step      type   amount     nameOrig  oldbalanceOrg  newbalanceOrig  \\\n",
       "0     1  TRANSFER    181.0  C1305486145          181.0             0.0   \n",
       "1     1  CASH_OUT    181.0   C840083671          181.0             0.0   \n",
       "2     1  TRANSFER   2806.0  C1420196421         2806.0             0.0   \n",
       "3     1  CASH_OUT   2806.0  C2101527076         2806.0             0.0   \n",
       "4     1  TRANSFER  20128.0   C137533655        20128.0             0.0   \n",
       "\n",
       "      nameDest  oldbalanceDest  newbalanceDest  isFraud  \n",
       "0   C553264065             0.0             0.0        1  \n",
       "1    C38997010         21182.0             0.0        1  \n",
       "2   C972765878             0.0             0.0        1  \n",
       "3  C1007251739         26202.0             0.0        1  \n",
       "4  C1848415041             0.0             0.0        1  "
      ]
     },
     "execution_count": 4,
     "metadata": {},
     "output_type": "execute_result"
    }
   ],
   "source": [
    "data.head()"
   ]
  },
  {
   "cell_type": "markdown",
   "id": "8e7ac9dd-6264-4993-b5e3-55f9692e2ff2",
   "metadata": {},
   "source": [
    "The sender's ID (nameOrig) and the receiver's ID (nameDest) cannot be used to determine whether a transaction will be fraudulent before it happens. Therefore, these columns are not useful for our model."
   ]
  },
  {
   "cell_type": "code",
   "execution_count": 5,
   "id": "c2dd95e2-2be6-45b1-83c7-dd250a039077",
   "metadata": {},
   "outputs": [],
   "source": [
    "df = data.drop(columns=['nameOrig', 'nameDest'])"
   ]
  },
  {
   "cell_type": "code",
   "execution_count": 6,
   "id": "54f16ada-535c-45fd-ad82-9345c30953e8",
   "metadata": {},
   "outputs": [
    {
     "data": {
      "text/html": [
       "<div>\n",
       "<style scoped>\n",
       "    .dataframe tbody tr th:only-of-type {\n",
       "        vertical-align: middle;\n",
       "    }\n",
       "\n",
       "    .dataframe tbody tr th {\n",
       "        vertical-align: top;\n",
       "    }\n",
       "\n",
       "    .dataframe thead th {\n",
       "        text-align: right;\n",
       "    }\n",
       "</style>\n",
       "<table border=\"1\" class=\"dataframe\">\n",
       "  <thead>\n",
       "    <tr style=\"text-align: right;\">\n",
       "      <th></th>\n",
       "      <th>step</th>\n",
       "      <th>type</th>\n",
       "      <th>amount</th>\n",
       "      <th>oldbalanceOrg</th>\n",
       "      <th>newbalanceOrig</th>\n",
       "      <th>oldbalanceDest</th>\n",
       "      <th>newbalanceDest</th>\n",
       "      <th>isFraud</th>\n",
       "    </tr>\n",
       "  </thead>\n",
       "  <tbody>\n",
       "    <tr>\n",
       "      <th>0</th>\n",
       "      <td>1</td>\n",
       "      <td>TRANSFER</td>\n",
       "      <td>181.0</td>\n",
       "      <td>181.0</td>\n",
       "      <td>0.0</td>\n",
       "      <td>0.0</td>\n",
       "      <td>0.0</td>\n",
       "      <td>1</td>\n",
       "    </tr>\n",
       "    <tr>\n",
       "      <th>1</th>\n",
       "      <td>1</td>\n",
       "      <td>CASH_OUT</td>\n",
       "      <td>181.0</td>\n",
       "      <td>181.0</td>\n",
       "      <td>0.0</td>\n",
       "      <td>21182.0</td>\n",
       "      <td>0.0</td>\n",
       "      <td>1</td>\n",
       "    </tr>\n",
       "    <tr>\n",
       "      <th>2</th>\n",
       "      <td>1</td>\n",
       "      <td>TRANSFER</td>\n",
       "      <td>2806.0</td>\n",
       "      <td>2806.0</td>\n",
       "      <td>0.0</td>\n",
       "      <td>0.0</td>\n",
       "      <td>0.0</td>\n",
       "      <td>1</td>\n",
       "    </tr>\n",
       "    <tr>\n",
       "      <th>3</th>\n",
       "      <td>1</td>\n",
       "      <td>CASH_OUT</td>\n",
       "      <td>2806.0</td>\n",
       "      <td>2806.0</td>\n",
       "      <td>0.0</td>\n",
       "      <td>26202.0</td>\n",
       "      <td>0.0</td>\n",
       "      <td>1</td>\n",
       "    </tr>\n",
       "    <tr>\n",
       "      <th>4</th>\n",
       "      <td>1</td>\n",
       "      <td>TRANSFER</td>\n",
       "      <td>20128.0</td>\n",
       "      <td>20128.0</td>\n",
       "      <td>0.0</td>\n",
       "      <td>0.0</td>\n",
       "      <td>0.0</td>\n",
       "      <td>1</td>\n",
       "    </tr>\n",
       "  </tbody>\n",
       "</table>\n",
       "</div>"
      ],
      "text/plain": [
       "   step      type   amount  oldbalanceOrg  newbalanceOrig  oldbalanceDest  \\\n",
       "0     1  TRANSFER    181.0          181.0             0.0             0.0   \n",
       "1     1  CASH_OUT    181.0          181.0             0.0         21182.0   \n",
       "2     1  TRANSFER   2806.0         2806.0             0.0             0.0   \n",
       "3     1  CASH_OUT   2806.0         2806.0             0.0         26202.0   \n",
       "4     1  TRANSFER  20128.0        20128.0             0.0             0.0   \n",
       "\n",
       "   newbalanceDest  isFraud  \n",
       "0             0.0        1  \n",
       "1             0.0        1  \n",
       "2             0.0        1  \n",
       "3             0.0        1  \n",
       "4             0.0        1  "
      ]
     },
     "execution_count": 6,
     "metadata": {},
     "output_type": "execute_result"
    }
   ],
   "source": [
    "df.head()"
   ]
  },
  {
   "cell_type": "markdown",
   "id": "7b67fc5d-902e-4009-a667-61ff26b2f14b",
   "metadata": {},
   "source": [
    "now' i will check is there null values or not ?"
   ]
  },
  {
   "cell_type": "code",
   "execution_count": 7,
   "id": "0004be7d-689a-46d2-836c-c6f1d44c3152",
   "metadata": {},
   "outputs": [
    {
     "data": {
      "text/plain": [
       "step              0\n",
       "type              0\n",
       "amount            0\n",
       "oldbalanceOrg     0\n",
       "newbalanceOrig    0\n",
       "oldbalanceDest    0\n",
       "newbalanceDest    0\n",
       "isFraud           0\n",
       "dtype: int64"
      ]
     },
     "execution_count": 7,
     "metadata": {},
     "output_type": "execute_result"
    }
   ],
   "source": [
    "df.isnull().sum()"
   ]
  },
  {
   "cell_type": "markdown",
   "id": "6948ddc2-b6c3-4372-8d40-30cb590ee02a",
   "metadata": {},
   "source": [
    "there are no null values , now i will check the datatypes are correct or not ."
   ]
  },
  {
   "cell_type": "code",
   "execution_count": 8,
   "id": "39addb7f-33c8-45af-93f7-1ea64d858cd2",
   "metadata": {},
   "outputs": [
    {
     "name": "stdout",
     "output_type": "stream",
     "text": [
      "<class 'pandas.core.frame.DataFrame'>\n",
      "RangeIndex: 11142 entries, 0 to 11141\n",
      "Data columns (total 8 columns):\n",
      " #   Column          Non-Null Count  Dtype  \n",
      "---  ------          --------------  -----  \n",
      " 0   step            11142 non-null  int64  \n",
      " 1   type            11142 non-null  object \n",
      " 2   amount          11142 non-null  float64\n",
      " 3   oldbalanceOrg   11142 non-null  float64\n",
      " 4   newbalanceOrig  11142 non-null  float64\n",
      " 5   oldbalanceDest  11142 non-null  float64\n",
      " 6   newbalanceDest  11142 non-null  float64\n",
      " 7   isFraud         11142 non-null  int64  \n",
      "dtypes: float64(5), int64(2), object(1)\n",
      "memory usage: 696.5+ KB\n"
     ]
    }
   ],
   "source": [
    "df.info()"
   ]
  },
  {
   "cell_type": "markdown",
   "id": "3c4d18ab-e3e8-4601-a33f-f528a292240f",
   "metadata": {},
   "source": [
    "all dtypes are correct , now i will check there is empty values or not "
   ]
  },
  {
   "cell_type": "code",
   "execution_count": 9,
   "id": "6472c29e-352a-4782-8bc7-2bd65db8448b",
   "metadata": {},
   "outputs": [
    {
     "data": {
      "text/plain": [
       "step              0\n",
       "type              0\n",
       "amount            0\n",
       "oldbalanceOrg     0\n",
       "newbalanceOrig    0\n",
       "oldbalanceDest    0\n",
       "newbalanceDest    0\n",
       "isFraud           0\n",
       "dtype: int64"
      ]
     },
     "execution_count": 9,
     "metadata": {},
     "output_type": "execute_result"
    }
   ],
   "source": [
    "(df == \" \").sum()  "
   ]
  },
  {
   "cell_type": "markdown",
   "id": "1ac4e5ee-6491-4370-8f26-99c1d197fc78",
   "metadata": {},
   "source": [
    "now,i will rename the features to make them easier to understand."
   ]
  },
  {
   "cell_type": "code",
   "execution_count": 10,
   "id": "bc04fee5-1b5c-40fd-9b1b-e4cfd4217e47",
   "metadata": {},
   "outputs": [],
   "source": [
    "df = df.rename(columns={\n",
    "    \"step\": \"TransactionHour\",\n",
    "    \"type\": \"TransactionType\",\n",
    "    \"amount\": \"TransactionAmount\",\n",
    "    \"oldbalanceOrg\": \"SenderBalanceBefore\",\n",
    "    \"newbalanceOrig\": \"SenderBalanceAfter\",\n",
    "    \"oldbalanceDest\": \"ReceiverBalanceBefore\",\n",
    "    \"newbalanceDest\": \"ReceiverBalanceAfter\",\n",
    "    \"isFraud\": \"IsFraud\"\n",
    "})"
   ]
  },
  {
   "cell_type": "code",
   "execution_count": 11,
   "id": "60bcf29a-6dae-4f26-9e74-d23c2ce5e368",
   "metadata": {},
   "outputs": [
    {
     "data": {
      "text/html": [
       "<div>\n",
       "<style scoped>\n",
       "    .dataframe tbody tr th:only-of-type {\n",
       "        vertical-align: middle;\n",
       "    }\n",
       "\n",
       "    .dataframe tbody tr th {\n",
       "        vertical-align: top;\n",
       "    }\n",
       "\n",
       "    .dataframe thead th {\n",
       "        text-align: right;\n",
       "    }\n",
       "</style>\n",
       "<table border=\"1\" class=\"dataframe\">\n",
       "  <thead>\n",
       "    <tr style=\"text-align: right;\">\n",
       "      <th></th>\n",
       "      <th>TransactionHour</th>\n",
       "      <th>TransactionType</th>\n",
       "      <th>TransactionAmount</th>\n",
       "      <th>SenderBalanceBefore</th>\n",
       "      <th>SenderBalanceAfter</th>\n",
       "      <th>ReceiverBalanceBefore</th>\n",
       "      <th>ReceiverBalanceAfter</th>\n",
       "      <th>IsFraud</th>\n",
       "    </tr>\n",
       "  </thead>\n",
       "  <tbody>\n",
       "    <tr>\n",
       "      <th>0</th>\n",
       "      <td>1</td>\n",
       "      <td>TRANSFER</td>\n",
       "      <td>181.0</td>\n",
       "      <td>181.0</td>\n",
       "      <td>0.0</td>\n",
       "      <td>0.0</td>\n",
       "      <td>0.0</td>\n",
       "      <td>1</td>\n",
       "    </tr>\n",
       "  </tbody>\n",
       "</table>\n",
       "</div>"
      ],
      "text/plain": [
       "   TransactionHour TransactionType  TransactionAmount  SenderBalanceBefore  \\\n",
       "0                1        TRANSFER              181.0                181.0   \n",
       "\n",
       "   SenderBalanceAfter  ReceiverBalanceBefore  ReceiverBalanceAfter  IsFraud  \n",
       "0                 0.0                    0.0                   0.0        1  "
      ]
     },
     "execution_count": 11,
     "metadata": {},
     "output_type": "execute_result"
    }
   ],
   "source": [
    "df.head(1)"
   ]
  },
  {
   "cell_type": "markdown",
   "id": "d64af5a5-06b6-4198-aa93-3bb53daea6de",
   "metadata": {},
   "source": [
    "Now, I will perform EDA to analyze the relationship and patterns between independent features and the target feature. This will help in understanding which features are useful and which ones might cause issues."
   ]
  },
  {
   "cell_type": "markdown",
   "id": "bbef9c49-59ca-45ca-a8fe-051e4391b513",
   "metadata": {},
   "source": [
    "I will check the ratio of 1s and 0s in the IsFraud column to understand the class distribution.."
   ]
  },
  {
   "cell_type": "code",
   "execution_count": 12,
   "id": "4235cb4e-0bc2-4dea-a49c-bd887336d537",
   "metadata": {},
   "outputs": [
    {
     "data": {
      "text/plain": [
       "IsFraud\n",
       "0    10000\n",
       "1     1142\n",
       "Name: count, dtype: int64"
      ]
     },
     "execution_count": 12,
     "metadata": {},
     "output_type": "execute_result"
    }
   ],
   "source": [
    "df[\"IsFraud\"].value_counts()"
   ]
  },
  {
   "cell_type": "code",
   "execution_count": 13,
   "id": "545aae22-d38a-40da-97a6-c3f6805fc39b",
   "metadata": {},
   "outputs": [
    {
     "data": {
      "text/plain": [
       "(11142, 8)"
      ]
     },
     "execution_count": 13,
     "metadata": {},
     "output_type": "execute_result"
    }
   ],
   "source": [
    "df.shape"
   ]
  },
  {
   "cell_type": "code",
   "execution_count": 14,
   "id": "04357c5d-ea4f-448c-bdf8-c0cf9a697136",
   "metadata": {},
   "outputs": [
    {
     "name": "stdout",
     "output_type": "stream",
     "text": [
      "IsFraud\n",
      "0    89.750494\n",
      "1    10.249506\n",
      "Name: count, dtype: float64\n"
     ]
    }
   ],
   "source": [
    "fraud_counts = df[\"IsFraud\"].value_counts()\n",
    "fraud_percentages = (fraud_counts / fraud_counts.sum()) * 100\n",
    "print(fraud_percentages)"
   ]
  },
  {
   "cell_type": "markdown",
   "id": "36041181-3587-451d-93c1-d899f0fc0565",
   "metadata": {},
   "source": [
    "A dataset is generally considered \"imbalanced\" when one class represents a significantly higher percentage than the other, with a common threshold being around an 80:20 or 90:10 ratio"
   ]
  },
  {
   "cell_type": "markdown",
   "id": "d74d6778-54a4-456b-ae33-7b384edb69df",
   "metadata": {},
   "source": [
    "# Our dataset also has a 90:10 ratio, which indicates that it is highly imbalanced.\n",
    "\n",
    "\n",
    "\n",
    "\n",
    "\n",
    "\n"
   ]
  },
  {
   "cell_type": "markdown",
   "id": "ec77ee8c-ca1c-4817-b191-1770906ac2f1",
   "metadata": {},
   "source": [
    "To address this imbalance, I will use undersampling, ensuring no repeated rows. However, I won’t apply it immediately, as it would reduce the data significantly. First, I'll analyze the full dataset (EDA) and handle imbalance during feature engineering. If undersampling doesn’t work well, I'll explore other techniques, including backward elimination.\n",
    "\n",
    "\n",
    "\n",
    "\n",
    "\n",
    "\n"
   ]
  },
  {
   "cell_type": "code",
   "execution_count": 15,
   "id": "d09bb8ff-5736-45b5-80d5-fbcdc882ccc4",
   "metadata": {},
   "outputs": [
    {
     "data": {
      "image/png": "[encoded data removed]",
      "text/plain": [
       "<Figure size 300x300 with 1 Axes>"
      ]
     },
     "metadata": {},
     "output_type": "display_data"
    }
   ],
   "source": [
    "import seaborn as sns\n",
    "import matplotlib.pyplot as plt\n",
    "fraud_counts = df['IsFraud'].value_counts()\n",
    "plt.figure(figsize=(3, 3))\n",
    "plt.pie(fraud_counts, labels=['NotFraud', 'Fraud'], autopct='%1.1f%%')\n",
    "plt.title('Fraudulent vs. Non-Fraudulent')\n",
    "plt.show()"
   ]
  },
  {
   "cell_type": "code",
   "execution_count": 16,
   "id": "45f31e02-aa05-43ec-961d-b38fcc9b37eb",
   "metadata": {},
   "outputs": [
    {
     "data": {
      "text/plain": [
       "(count    11142.000000\n",
       " mean         8.717645\n",
       " std         16.067479\n",
       " min          1.000000\n",
       " 25%          2.000000\n",
       " 50%          6.000000\n",
       " 75%          7.000000\n",
       " max         95.000000\n",
       " Name: TransactionHour, dtype: float64,\n",
       " TransactionHour\n",
       " 7     2914\n",
       " 1     2708\n",
       " 6     1660\n",
       " 2     1014\n",
       " 5      665\n",
       "       ... \n",
       " 54       4\n",
       " 28       4\n",
       " 49       4\n",
       " 29       4\n",
       " 23       2\n",
       " Name: count, Length: 95, dtype: int64)"
      ]
     },
     "execution_count": 16,
     "metadata": {},
     "output_type": "execute_result"
    }
   ],
   "source": [
    "df[\"TransactionHour\"].describe() , df[\"TransactionHour\"].value_counts()"
   ]
  },
  {
   "cell_type": "code",
   "execution_count": 17,
   "id": "7ea82166-3291-4a68-8fec-9dbfce9610af",
   "metadata": {},
   "outputs": [
    {
     "data": {
      "image/png": "[encoded data removed]",
      "text/plain": [
       "<Figure size 800x300 with 1 Axes>"
      ]
     },
     "metadata": {},
     "output_type": "display_data"
    }
   ],
   "source": [
    "plt.figure(figsize=(8,3))\n",
    "sns.histplot(x=\"TransactionHour\" ,data = df , bins =30 ,hue = \"IsFraud\")\n",
    "plt.show()"
   ]
  },
  {
   "cell_type": "markdown",
   "id": "08feda9a-65a8-45bf-b8d3-d599a260b1a1",
   "metadata": {},
   "source": [
    "My analysis shows that non-fraudulent transactions mostly occur between 0 to 8 hours, but there are also a few fraudulent transactions in this range. However, non-fraudulent transactions are strictly within the 0 to 8-hour range and do not appear outside of it."
   ]
  },
  {
   "cell_type": "markdown",
   "id": "755db593-83b9-4f59-870c-c4bc8eeca4df",
   "metadata": {},
   "source": [
    "I am going to categorize TransactionHour into three ranges: 0 to 8 (Low), 8 to 50 (Medium), and 50 and above (High). This categorization will help analyze the relationship between transaction timing and fraud detection more effectively. Since non-fraudulent transactions mostly occur between 0 to 8, this approach may reveal patterns that differentiate fraudulent and non-fraudulent transactionsI will apply this categorization during feature engineering, not immediately, as we need to analyze the multivariate relationships first. This will help us manage features effectively based on their impact on the overall analysis."
   ]
  },
  {
   "cell_type": "code",
   "execution_count": 18,
   "id": "7162e785-22d3-4d5b-8fd7-17ad23c74926",
   "metadata": {},
   "outputs": [
    {
     "data": {
      "text/plain": [
       "TransactionType\n",
       "PAYMENT     5510\n",
       "CASH_IN     1951\n",
       "CASH_OUT    1871\n",
       "TRANSFER    1464\n",
       "DEBIT        346\n",
       "Name: count, dtype: int64"
      ]
     },
     "execution_count": 18,
     "metadata": {},
     "output_type": "execute_result"
    }
   ],
   "source": [
    "df[\"TransactionType\"].value_counts()"
   ]
  },
  {
   "cell_type": "code",
   "execution_count": 19,
   "id": "fe1c0fa6-3486-487f-81c3-cba23af85a6b",
   "metadata": {},
   "outputs": [
    {
     "name": "stdout",
     "output_type": "stream",
     "text": [
      "IsFraud                   0          1\n",
      "TransactionType                       \n",
      "CASH_IN          100.000000   0.000000\n",
      "CASH_OUT          69.107429  30.892571\n",
      "DEBIT            100.000000   0.000000\n",
      "PAYMENT          100.000000   0.000000\n",
      "TRANSFER          61.475410  38.524590\n"
     ]
    }
   ],
   "source": [
    "fraud_percent = df.groupby(\"TransactionType\")[\"IsFraud\"].value_counts(normalize=True).unstack(fill_value=0) * 100\n",
    "print(fraud_percent)"
   ]
  },
  {
   "cell_type": "code",
   "execution_count": 26,
   "id": "8f7f2712-d995-4755-8f9a-49cf6ba6c2f1",
   "metadata": {},
   "outputs": [
    {
     "data": {
      "image/png": "[encoded data removed]",
      "text/plain": [
       "<Figure size 1000x400 with 1 Axes>"
      ]
     },
     "metadata": {},
     "output_type": "display_data"
    }
   ],
   "source": [
    "fraud_percent.plot(kind='bar', figsize=(10,4))\n",
    "plt.xlabel(\"Transaction Type\")\n",
    "plt.ylabel(\"Percentage\")\n",
    "plt.title(\"Fraud vs Non-Fraud Percentage by Transaction Type\")\n",
    "plt.legend(title=\"IsFraud\", labels=[\"Non-Fraud (0)\", \"Fraud (1)\"])\n",
    "plt.xticks(rotation=90)\n",
    "plt.show()"
   ]
  },
  {
   "cell_type": "markdown",
   "id": "9e327ab0-2308-4d74-a332-944c7f7d5e2b",
   "metadata": {},
   "source": [
    "I analyzed that there are five types of transactions: Payment, Debit, Cash_In, Cash_Out, and Transfer, which are commonly used in transactions. However, fraud only occurs in Cash_Out and Transfer transactions. This means that whenever a transaction is of type Cash_Out or Transfer, the probability of fraud is higher. Additionally, I observed that fraud does not occur in the other transaction types."
   ]
  },
  {
   "cell_type": "markdown",
   "id": "c1c59a5e-2f67-485d-8e1e-492d69c496af",
   "metadata": {},
   "source": [
    "Fraud occurs only in Cash_Out and Transfer transactions, with a high probability of over 80%. Other transaction types (Cash_In, Debit, Payment) have 0% fraud, meaning fraud never happens in them. Hence, TransactionType is a strong indicator for fraud detection."
   ]
  },
  {
   "cell_type": "code",
   "execution_count": 25,
   "id": "9a26b2d1-b831-4362-a7d5-a126ee4bcd6e",
   "metadata": {},
   "outputs": [
    {
     "data": {
      "text/html": [
       "<div>\n",
       "<style scoped>\n",
       "    .dataframe tbody tr th:only-of-type {\n",
       "        vertical-align: middle;\n",
       "    }\n",
       "\n",
       "    .dataframe tbody tr th {\n",
       "        vertical-align: top;\n",
       "    }\n",
       "\n",
       "    .dataframe thead th {\n",
       "        text-align: right;\n",
       "    }\n",
       "</style>\n",
       "<table border=\"1\" class=\"dataframe\">\n",
       "  <thead>\n",
       "    <tr style=\"text-align: right;\">\n",
       "      <th></th>\n",
       "      <th>TransactionHour</th>\n",
       "      <th>TransactionType</th>\n",
       "      <th>TransactionAmount</th>\n",
       "      <th>SenderBalanceBefore</th>\n",
       "      <th>SenderBalanceAfter</th>\n",
       "      <th>ReceiverBalanceBefore</th>\n",
       "      <th>ReceiverBalanceAfter</th>\n",
       "      <th>IsFraud</th>\n",
       "    </tr>\n",
       "  </thead>\n",
       "  <tbody>\n",
       "    <tr>\n",
       "      <th>7723</th>\n",
       "      <td>6</td>\n",
       "      <td>CASH_IN</td>\n",
       "      <td>111460.82</td>\n",
       "      <td>2468614.51</td>\n",
       "      <td>2580075.33</td>\n",
       "      <td>202786.00</td>\n",
       "      <td>91325.18</td>\n",
       "      <td>0</td>\n",
       "    </tr>\n",
       "    <tr>\n",
       "      <th>9229</th>\n",
       "      <td>7</td>\n",
       "      <td>TRANSFER</td>\n",
       "      <td>261399.78</td>\n",
       "      <td>0.00</td>\n",
       "      <td>0.00</td>\n",
       "      <td>282354.82</td>\n",
       "      <td>916266.80</td>\n",
       "      <td>0</td>\n",
       "    </tr>\n",
       "    <tr>\n",
       "      <th>6901</th>\n",
       "      <td>6</td>\n",
       "      <td>CASH_IN</td>\n",
       "      <td>192005.11</td>\n",
       "      <td>7553719.76</td>\n",
       "      <td>7553719.76</td>\n",
       "      <td>7553719.76</td>\n",
       "      <td>11400000.00</td>\n",
       "      <td>0</td>\n",
       "    </tr>\n",
       "    <tr>\n",
       "      <th>2314</th>\n",
       "      <td>1</td>\n",
       "      <td>PAYMENT</td>\n",
       "      <td>2033.14</td>\n",
       "      <td>186592.00</td>\n",
       "      <td>184558.86</td>\n",
       "      <td>0.00</td>\n",
       "      <td>0.00</td>\n",
       "      <td>0</td>\n",
       "    </tr>\n",
       "    <tr>\n",
       "      <th>7719</th>\n",
       "      <td>6</td>\n",
       "      <td>CASH_IN</td>\n",
       "      <td>135998.76</td>\n",
       "      <td>1913438.35</td>\n",
       "      <td>2049437.11</td>\n",
       "      <td>351690.17</td>\n",
       "      <td>31444.70</td>\n",
       "      <td>0</td>\n",
       "    </tr>\n",
       "  </tbody>\n",
       "</table>\n",
       "</div>"
      ],
      "text/plain": [
       "      TransactionHour TransactionType  TransactionAmount  SenderBalanceBefore  \\\n",
       "7723                6         CASH_IN          111460.82           2468614.51   \n",
       "9229                7        TRANSFER          261399.78                 0.00   \n",
       "6901                6         CASH_IN          192005.11           7553719.76   \n",
       "2314                1         PAYMENT            2033.14            186592.00   \n",
       "7719                6         CASH_IN          135998.76           1913438.35   \n",
       "\n",
       "      SenderBalanceAfter  ReceiverBalanceBefore  ReceiverBalanceAfter  IsFraud  \n",
       "7723          2580075.33              202786.00              91325.18        0  \n",
       "9229                0.00              282354.82             916266.80        0  \n",
       "6901          7553719.76             7553719.76           11400000.00        0  \n",
       "2314           184558.86                   0.00                  0.00        0  \n",
       "7719          2049437.11              351690.17              31444.70        0  "
      ]
     },
     "execution_count": 25,
     "metadata": {},
     "output_type": "execute_result"
    }
   ],
   "source": [
    "df.sample(5)"
   ]
  },
  {
   "cell_type": "code",
   "execution_count": 26,
   "id": "bb55b776-16c6-42b0-b16f-6bb94f6c6c49",
   "metadata": {},
   "outputs": [
    {
     "data": {
      "image/png": "[encoded data removed]",
      "text/plain": [
       "<Figure size 800x300 with 1 Axes>"
      ]
     },
     "metadata": {},
     "output_type": "display_data"
    }
   ],
   "source": [
    "plt.figure(figsize=(8,3))\n",
    "sns.kdeplot(df[df['IsFraud'] == 1]['SenderBalanceBefore'], color='red', label=\"Fraud: SenderBalanceBefore\", fill=True)\n",
    "sns.kdeplot(df[df['IsFraud'] == 1]['TransactionAmount'], color='green', label=\"Fraud: TransactionAmount\", fill=True)\n",
    "sns.kdeplot(df[df['IsFraud'] == 1]['SenderBalanceAfter'], color='blue', label=\"Fraud: SenderBalanceAfter\", fill=True)\n",
    "plt.ylabel(\"Density\")\n",
    "plt.title(\"Fraud Transactions In senderbalance before and After\")\n",
    "plt.legend()\n",
    "plt.show()"
   ]
  },
  {
   "cell_type": "markdown",
   "id": "a04693f3-6564-43ab-96da-a7271862e9aa",
   "metadata": {},
   "source": [
    "I analyzed that in fraudulent transactions, the user's balance before the transaction (SenderBalanceBefore) is equal to the transaction amount. This indicates that fraudsters tend to empty the accounts, resulting in SenderBalanceAfter becoming zero."
   ]
  },
  {
   "cell_type": "code",
   "execution_count": 27,
   "id": "000d1b1c-e93f-4f10-b760-65e59b37ca20",
   "metadata": {},
   "outputs": [
    {
     "data": {
      "image/png": "[encoded data removed]",
      "text/plain": [
       "<Figure size 800x300 with 1 Axes>"
      ]
     },
     "metadata": {},
     "output_type": "display_data"
    }
   ],
   "source": [
    "# Non-Fraud Transactions\n",
    "plt.figure(figsize=(8,3))\n",
    "sns.kdeplot(df[df['IsFraud'] == 0]['SenderBalanceBefore'], color='red', label=\"Fraud: SenderBalanceBefore\", fill=True)\n",
    "sns.kdeplot(df[df['IsFraud'] == 0]['TransactionAmount'], color='green', label=\"Fraud: TransactionAmount\", fill=True)\n",
    "sns.kdeplot(df[df['IsFraud'] == 0]['SenderBalanceAfter'], color='blue', label=\"Fraud: SenderBalanceAfter\", fill=True)\n",
    "plt.ylabel(\"Density\")\n",
    "plt.title(\"Non-Fraud Transactions In senderbalance before and After\")\n",
    "plt.legend()\n",
    "plt.show()"
   ]
  },
  {
   "cell_type": "markdown",
   "id": "cabc0695-c001-4781-afcf-ab9bffa2ef11",
   "metadata": {},
   "source": [
    "In non-fraud transactions, the TransactionAmount is not always equal to SenderBalanceBefore, meaning that users do not transfer their entire account balance at once. In contrast, fraudulent cases show the opposite pattern, where fraudsters empty the account completely, resulting in SenderBalanceAfter becoming zero. In non-fraud cases, there is a noticeable difference between SenderBalanceBefore and SenderBalanceAfter, indicating that genuine users retain some balance in their account, whereas fraudsters do not."
   ]
  },
  {
   "cell_type": "code",
   "execution_count": 28,
   "id": "3cd7e715-eba1-446c-b454-32830c2ccc34",
   "metadata": {},
   "outputs": [
    {
     "data": {
      "text/html": [
       "<div>\n",
       "<style scoped>\n",
       "    .dataframe tbody tr th:only-of-type {\n",
       "        vertical-align: middle;\n",
       "    }\n",
       "\n",
       "    .dataframe tbody tr th {\n",
       "        vertical-align: top;\n",
       "    }\n",
       "\n",
       "    .dataframe thead th {\n",
       "        text-align: right;\n",
       "    }\n",
       "</style>\n",
       "<table border=\"1\" class=\"dataframe\">\n",
       "  <thead>\n",
       "    <tr style=\"text-align: right;\">\n",
       "      <th></th>\n",
       "      <th>TransactionHour</th>\n",
       "      <th>TransactionType</th>\n",
       "      <th>TransactionAmount</th>\n",
       "      <th>SenderBalanceBefore</th>\n",
       "      <th>SenderBalanceAfter</th>\n",
       "      <th>ReceiverBalanceBefore</th>\n",
       "      <th>ReceiverBalanceAfter</th>\n",
       "      <th>IsFraud</th>\n",
       "    </tr>\n",
       "  </thead>\n",
       "  <tbody>\n",
       "    <tr>\n",
       "      <th>8228</th>\n",
       "      <td>6</td>\n",
       "      <td>PAYMENT</td>\n",
       "      <td>3392.19</td>\n",
       "      <td>64738.71</td>\n",
       "      <td>61346.52</td>\n",
       "      <td>0.00</td>\n",
       "      <td>0.00</td>\n",
       "      <td>0</td>\n",
       "    </tr>\n",
       "    <tr>\n",
       "      <th>10631</th>\n",
       "      <td>7</td>\n",
       "      <td>TRANSFER</td>\n",
       "      <td>388950.76</td>\n",
       "      <td>43053.00</td>\n",
       "      <td>0.00</td>\n",
       "      <td>11999.56</td>\n",
       "      <td>532138.20</td>\n",
       "      <td>0</td>\n",
       "    </tr>\n",
       "    <tr>\n",
       "      <th>4729</th>\n",
       "      <td>2</td>\n",
       "      <td>CASH_IN</td>\n",
       "      <td>201398.60</td>\n",
       "      <td>683085.59</td>\n",
       "      <td>884484.19</td>\n",
       "      <td>616919.00</td>\n",
       "      <td>7616.73</td>\n",
       "      <td>0</td>\n",
       "    </tr>\n",
       "    <tr>\n",
       "      <th>1006</th>\n",
       "      <td>84</td>\n",
       "      <td>TRANSFER</td>\n",
       "      <td>2627070.50</td>\n",
       "      <td>2627070.50</td>\n",
       "      <td>0.00</td>\n",
       "      <td>0.00</td>\n",
       "      <td>0.00</td>\n",
       "      <td>1</td>\n",
       "    </tr>\n",
       "    <tr>\n",
       "      <th>4567</th>\n",
       "      <td>2</td>\n",
       "      <td>PAYMENT</td>\n",
       "      <td>4004.23</td>\n",
       "      <td>1203.00</td>\n",
       "      <td>0.00</td>\n",
       "      <td>0.00</td>\n",
       "      <td>0.00</td>\n",
       "      <td>0</td>\n",
       "    </tr>\n",
       "  </tbody>\n",
       "</table>\n",
       "</div>"
      ],
      "text/plain": [
       "       TransactionHour TransactionType  TransactionAmount  \\\n",
       "8228                 6         PAYMENT            3392.19   \n",
       "10631                7        TRANSFER          388950.76   \n",
       "4729                 2         CASH_IN          201398.60   \n",
       "1006                84        TRANSFER         2627070.50   \n",
       "4567                 2         PAYMENT            4004.23   \n",
       "\n",
       "       SenderBalanceBefore  SenderBalanceAfter  ReceiverBalanceBefore  \\\n",
       "8228              64738.71            61346.52                   0.00   \n",
       "10631             43053.00                0.00               11999.56   \n",
       "4729             683085.59           884484.19              616919.00   \n",
       "1006            2627070.50                0.00                   0.00   \n",
       "4567               1203.00                0.00                   0.00   \n",
       "\n",
       "       ReceiverBalanceAfter  IsFraud  \n",
       "8228                   0.00        0  \n",
       "10631             532138.20        0  \n",
       "4729                7616.73        0  \n",
       "1006                   0.00        1  \n",
       "4567                   0.00        0  "
      ]
     },
     "execution_count": 28,
     "metadata": {},
     "output_type": "execute_result"
    }
   ],
   "source": [
    "df.sample(5)"
   ]
  },
  {
   "cell_type": "markdown",
   "id": "3eb9394f-cfd3-48d4-8f1a-9b57d9fbb06f",
   "metadata": {},
   "source": [
    "Both ReceiverBalanceBefore and ReceiverBalanceAfter represent the fraudster's account details—showing how much balance they had before committing fraud and what happened to their balance after receiving the money."
   ]
  },
  {
   "cell_type": "code",
   "execution_count": 29,
   "id": "ea31a3fc-9e1b-4dd1-a082-713d1d3e0982",
   "metadata": {},
   "outputs": [
    {
     "data": {
      "image/png": "[encoded data removed]",
      "text/plain": [
       "<Figure size 800x300 with 1 Axes>"
      ]
     },
     "metadata": {},
     "output_type": "display_data"
    }
   ],
   "source": [
    "plt.figure(figsize=(8,3))\n",
    "sns.kdeplot(df[df['IsFraud'] == 0]['ReceiverBalanceBefore'], label=\"Non-Fraud: ReceiverBalanceBefore\", fill=True)\n",
    "sns.kdeplot(df[df['IsFraud'] == 1]['ReceiverBalanceBefore'], label=\"Fraud: ReceiverBalanceBefore\", fill=True)\n",
    "plt.xlabel(\"Receiver Balance\")\n",
    "plt.ylabel(\"Density\")\n",
    "plt.title(\" Receiver before Balance in Non-Fraud ans fraud Transactions\")\n",
    "plt.legend()\n",
    "plt.show()"
   ]
  },
  {
   "cell_type": "code",
   "execution_count": 29,
   "id": "b109c564-4e6c-4ff8-8496-0bc7b0f94472",
   "metadata": {},
   "outputs": [
    {
     "data": {
      "text/plain": [
       "ReceiverBalanceBefore\n",
       "0.00         728\n",
       "267824.05      1\n",
       "199385.83      1\n",
       "98505.53       1\n",
       "194134.25      1\n",
       "223853.38      1\n",
       "331969.08      1\n",
       "4162.42        1\n",
       "52021.34       1\n",
       "288804.07      1\n",
       "Name: count, dtype: int64"
      ]
     },
     "execution_count": 29,
     "metadata": {},
     "output_type": "execute_result"
    }
   ],
   "source": [
    "df[df[\"IsFraud\"] == 1][\"ReceiverBalanceBefore\"].value_counts().head(10)"
   ]
  },
  {
   "cell_type": "markdown",
   "id": "940e7209-d21e-465e-8f46-afa58f4e683d",
   "metadata": {},
   "source": [
    "In this analysis shows that in non-fraudulent transactions, many recipients had a zero balance before receiving the money, while some already had funds in their accounts.\n",
    "\n",
    "However, in fraudulent transactions, recipients' accounts were mostly and higher then non-fraudulent empty before receiving the money. This suggests that fraudsters usually operate with empty accounts, likely to avoid suspicion and minimize risk before scamming users and transferring money into them."
   ]
  },
  {
   "cell_type": "code",
   "execution_count": 31,
   "id": "390bc4da-b638-4499-9a72-60361ae68660",
   "metadata": {},
   "outputs": [
    {
     "data": {
      "image/png": "[encoded data removed]",
      "text/plain": [
       "<Figure size 800x300 with 1 Axes>"
      ]
     },
     "metadata": {},
     "output_type": "display_data"
    }
   ],
   "source": [
    "plt.figure(figsize=(8,3))\n",
    "sns.kdeplot(df[df['IsFraud'] == 0]['ReceiverBalanceAfter'], label=\"Non-Fraud: ReceiverBalanceAfter\", fill=True)\n",
    "sns.kdeplot(df[df['IsFraud'] == 1]['ReceiverBalanceAfter'], label=\"Fraud: ReceiverBalanceAfter\", fill=True)\n",
    "plt.ylabel(\"Density\")\n",
    "plt.title(\" Receiver after Balance in Non-Fraud ans fraud Transactions\")\n",
    "plt.legend()\n",
    "plt.show()"
   ]
  },
  {
   "cell_type": "code",
   "execution_count": 31,
   "id": "0f0b3f68",
   "metadata": {},
   "outputs": [
    {
     "data": {
      "text/plain": [
       "(ReceiverBalanceAfter\n",
       " 0.00           555\n",
       " 10000000.00      3\n",
       " 10200000.00      2\n",
       " 134195.64        1\n",
       " 230960.48        1\n",
       " Name: count, dtype: int64,\n",
       " ReceiverBalanceAfter\n",
       " 0.00           5838\n",
       " 971418.91        32\n",
       " 19200000.00      29\n",
       " 10700000.00      25\n",
       " 1254956.07       25\n",
       " Name: count, dtype: int64)"
      ]
     },
     "execution_count": 31,
     "metadata": {},
     "output_type": "execute_result"
    }
   ],
   "source": [
    "df[df[\"IsFraud\"] == 1][\"ReceiverBalanceAfter\"].value_counts().head(5), df[df[\"IsFraud\"] == 0][\"ReceiverBalanceAfter\"].value_counts().head(5)"
   ]
  },
  {
   "cell_type": "markdown",
   "id": "9e0fb4d5-f932-4994-9c6e-6f7074d89b99",
   "metadata": {},
   "source": [
    "I observed that whether fraud happens or not, the receiver's account balance is mostly zero both before and after the transaction. However, in the case of fraudsters, their accounts usually have some balance after the transaction."
   ]
  },
  {
   "cell_type": "code",
   "execution_count": 32,
   "id": "bb860831-cfcc-4eae-adef-5aec4f9916d1",
   "metadata": {},
   "outputs": [
    {
     "data": {
      "image/png": "[encoded data removed]",
      "text/plain": [
       "<Figure size 800x300 with 1 Axes>"
      ]
     },
     "metadata": {},
     "output_type": "display_data"
    }
   ],
   "source": [
    "plt.figure(figsize=(8,3))\n",
    "sns.kdeplot(df[df['IsFraud'] == 0]['TransactionAmount'], label=\"Non-Fraud: TransactionAmount gave Receiver\", fill=True)\n",
    "sns.kdeplot(df[df['IsFraud'] == 0]['ReceiverBalanceBefore'], label=\"non-Fraud: ReceiverBalanceBefore take TransactionAmount\", fill=True)\n",
    "sns.kdeplot(df[df['IsFraud'] == 0]['ReceiverBalanceAfter'], label=\"non-Fraud: ReceiverBalance After take TransactionAmount\", fill=True)\n",
    "plt.ylabel(\"Density\")\n",
    "plt.legend()\n",
    "plt.show()"
   ]
  },
  {
   "cell_type": "markdown",
   "id": "6bb489bf-ba05-4ef8-8f1b-5ba5aabdc0f3",
   "metadata": {},
   "source": [
    "I observed that in non-fraud transactions, the distribution of ReceiverBalanceBefore and ReceiverBalanceAfter remains similar even after receiving the TransactionAmount. This means that the money received by the receiver did not have a significant impact on their account balance, as they already had sufficient funds. This indicates that these transactions are non-fraudulent."
   ]
  },
  {
   "cell_type": "code",
   "execution_count": 33,
   "id": "0328477a-ac9c-477c-ad2f-776635033212",
   "metadata": {},
   "outputs": [
    {
     "data": {
      "image/png": "[encoded data removed]",
      "text/plain": [
       "<Figure size 800x300 with 1 Axes>"
      ]
     },
     "metadata": {},
     "output_type": "display_data"
    }
   ],
   "source": [
    "plt.figure(figsize=(8,3))\n",
    "sns.kdeplot(df[df['IsFraud'] == 1]['TransactionAmount'], label=\"Fraud : TransactionAmount gave Receiver\", fill=True)\n",
    "sns.kdeplot(df[df['IsFraud'] == 1]['ReceiverBalanceBefore'], label=\"Fraud : ReceiverBalanceBefore take TransactionAmount\", fill=True)\n",
    "sns.kdeplot(df[df['IsFraud'] == 1]['ReceiverBalanceAfter'], label=\"Fraud: ReceiverBalance After take TransactionAmount\", fill=True)\n",
    "plt.xlabel(\"Receiver Balance\")\n",
    "plt.ylabel(\"Density\")\n",
    "plt.legend()\n",
    "plt.show()"
   ]
  },
  {
   "cell_type": "markdown",
   "id": "6ef93055-722b-4492-81b2-c028132030e9",
   "metadata": {},
   "source": [
    "I observed that in fraudulent transactions, the ReceiverBalanceBefore distribution has a high peak at zero, meaning the scammer's account was mostly empty before the transaction. However, after the fraud occurred, the ReceiverBalanceAfter distribution closely matches the TransactionAmount, indicating that the scammer received almost the exact amount they stole, with only a slight difference. This insight clearly highlights fraudulent activity, as the scammer’s account was empty before the fraud and filled up immediately after."
   ]
  },
  {
   "cell_type": "markdown",
   "id": "8946ac16-101b-4c7a-9be7-c45278e7ddb9",
   "metadata": {},
   "source": [
    "Now, I will analyze the correlation to see if there are any strong relationships between different features. This will help in identifying important patterns and confirming insights about fraudulent transactions."
   ]
  },
  {
   "cell_type": "code",
   "execution_count": 34,
   "id": "b3f6aded-53fb-4baa-837d-584f48a05082",
   "metadata": {},
   "outputs": [
    {
     "data": {
      "image/png": "[encoded data removed]",
      "text/plain": [
       "<Figure size 800x400 with 2 Axes>"
      ]
     },
     "metadata": {},
     "output_type": "display_data"
    }
   ],
   "source": [
    "numeric_cols = df.select_dtypes(include=['number'])\n",
    "corr_matrix = numeric_cols.corr()\n",
    "plt.figure(figsize=(8,4))\n",
    "sns.heatmap(corr_matrix, annot=True, fmt=\".2f\", cmap=\"coolwarm\")\n",
    "plt.title(\"Correlation Heatmap (Numeric Features)\")\n",
    "plt.show()"
   ]
  },
  {
   "cell_type": "markdown",
   "id": "46b37a2b-a681-4a78-b1ac-d9a26e4357b7",
   "metadata": {},
   "source": [
    "Multicollinearity in independent variables is typically identified when the correlation between two or more features is above 0.75 or 0.8."
   ]
  },
  {
   "cell_type": "markdown",
   "id": "b3cb5ff0-36f6-451e-87d7-d0902f028f78",
   "metadata": {},
   "source": [
    "I have two sets of independent features: SenderBalanceBefore & SenderBalanceAfter (correlation: 0.94) and ReceiverBalanceBefore & ReceiverBalanceAfter (correlation: 0.93). Keeping both in each pair would cause multicollinearity, so one must be removed.\n",
    "\n",
    "Since SenderBalanceBefore and ReceiverBalanceBefore are known before the transaction, they can be used for fraud prediction. However, after balances are only available post-transaction, making them unsuitable for predictive modeling. Therefore, we will retain SenderBalanceBefore and ReceiverBalanceBefore while dropping the after balances.\n",
    "\n",
    "\n",
    "\n",
    "\n",
    "\n"
   ]
  },
  {
   "cell_type": "code",
   "execution_count": 35,
   "id": "0a3e2d08-9f77-4d97-a495-208b7f1eed75",
   "metadata": {},
   "outputs": [],
   "source": [
    "df2 = df.drop(columns=[\"ReceiverBalanceAfter\" , \"SenderBalanceAfter\"])"
   ]
  },
  {
   "cell_type": "code",
   "execution_count": 36,
   "id": "7eb2e1c5-4282-4954-aa26-7ae69f86dcdb",
   "metadata": {},
   "outputs": [
    {
     "data": {
      "text/html": [
       "<div>\n",
       "<style scoped>\n",
       "    .dataframe tbody tr th:only-of-type {\n",
       "        vertical-align: middle;\n",
       "    }\n",
       "\n",
       "    .dataframe tbody tr th {\n",
       "        vertical-align: top;\n",
       "    }\n",
       "\n",
       "    .dataframe thead th {\n",
       "        text-align: right;\n",
       "    }\n",
       "</style>\n",
       "<table border=\"1\" class=\"dataframe\">\n",
       "  <thead>\n",
       "    <tr style=\"text-align: right;\">\n",
       "      <th></th>\n",
       "      <th>TransactionHour</th>\n",
       "      <th>TransactionType</th>\n",
       "      <th>TransactionAmount</th>\n",
       "      <th>SenderBalanceBefore</th>\n",
       "      <th>ReceiverBalanceBefore</th>\n",
       "      <th>IsFraud</th>\n",
       "    </tr>\n",
       "  </thead>\n",
       "  <tbody>\n",
       "    <tr>\n",
       "      <th>1874</th>\n",
       "      <td>1</td>\n",
       "      <td>PAYMENT</td>\n",
       "      <td>22043.92</td>\n",
       "      <td>0.00</td>\n",
       "      <td>0.0</td>\n",
       "      <td>0</td>\n",
       "    </tr>\n",
       "    <tr>\n",
       "      <th>2553</th>\n",
       "      <td>1</td>\n",
       "      <td>PAYMENT</td>\n",
       "      <td>2786.60</td>\n",
       "      <td>29009.51</td>\n",
       "      <td>0.0</td>\n",
       "      <td>0</td>\n",
       "    </tr>\n",
       "    <tr>\n",
       "      <th>488</th>\n",
       "      <td>42</td>\n",
       "      <td>TRANSFER</td>\n",
       "      <td>1566057.28</td>\n",
       "      <td>1566057.28</td>\n",
       "      <td>0.0</td>\n",
       "      <td>1</td>\n",
       "    </tr>\n",
       "    <tr>\n",
       "      <th>7174</th>\n",
       "      <td>6</td>\n",
       "      <td>PAYMENT</td>\n",
       "      <td>5972.35</td>\n",
       "      <td>0.00</td>\n",
       "      <td>0.0</td>\n",
       "      <td>0</td>\n",
       "    </tr>\n",
       "    <tr>\n",
       "      <th>7277</th>\n",
       "      <td>6</td>\n",
       "      <td>PAYMENT</td>\n",
       "      <td>1916.28</td>\n",
       "      <td>33036.00</td>\n",
       "      <td>0.0</td>\n",
       "      <td>0</td>\n",
       "    </tr>\n",
       "  </tbody>\n",
       "</table>\n",
       "</div>"
      ],
      "text/plain": [
       "      TransactionHour TransactionType  TransactionAmount  SenderBalanceBefore  \\\n",
       "1874                1         PAYMENT           22043.92                 0.00   \n",
       "2553                1         PAYMENT            2786.60             29009.51   \n",
       "488                42        TRANSFER         1566057.28           1566057.28   \n",
       "7174                6         PAYMENT            5972.35                 0.00   \n",
       "7277                6         PAYMENT            1916.28             33036.00   \n",
       "\n",
       "      ReceiverBalanceBefore  IsFraud  \n",
       "1874                    0.0        0  \n",
       "2553                    0.0        0  \n",
       "488                     0.0        1  \n",
       "7174                    0.0        0  \n",
       "7277                    0.0        0  "
      ]
     },
     "execution_count": 36,
     "metadata": {},
     "output_type": "execute_result"
    }
   ],
   "source": [
    "df2.sample(5)"
   ]
  },
  {
   "cell_type": "markdown",
   "id": "276f7c9e-2cb3-4519-a094-d3e089b2e549",
   "metadata": {},
   "source": [
    "I will start with undersampling, ensuring that no repeated rows are taken. The majority class data will be primarily used for validation to maintain balance. Right now, we are adjusting data levels changes to handle imbalance. If this does not yield good results, we will explore other techniques in backward elimination to manage class imbalance effectively.\n",
    "\n",
    "Next, I will proceed with feature engineering. First, I will convert TransactionHour into predefined time ranges (low, medium) as mentioned earlier. Then, I will apply One-Hot Encoding (OHE) to TransactionType to handle categorical values. Finally, I will scale all numeric independent columns to ensure they are on the same scale, improving the model's performance."
   ]
  },
  {
   "cell_type": "code",
   "execution_count": 37,
   "id": "3907f7ed-b87b-4163-9718-d9a042b623ba",
   "metadata": {},
   "outputs": [],
   "source": [
    "from imblearn.under_sampling import RandomUnderSampler\n",
    "\n",
    "rus = RandomUnderSampler(sampling_strategy=1.0, random_state=42)\n",
    "X = df2.drop(columns=['IsFraud'])\n",
    "y = df2['IsFraud']\n",
    "X_resampled, y_resampled = rus.fit_resample(X, y)\n",
    "\n",
    "df_balanced = X_resampled.copy()\n",
    "df_balanced['IsFraud'] = y_resampled\n",
    "\n",
    "# Find the remaining validation data (extra majority class rows)\n",
    "df_validation = df.loc[~df.index.isin(df_balanced.index)]\n",
    "\n",
    "df2 = df_balanced.copy()"
   ]
  },
  {
   "cell_type": "code",
   "execution_count": 38,
   "id": "c0f4fd40-61fa-422c-8d3c-94e8ec7d23e1",
   "metadata": {},
   "outputs": [
    {
     "name": "stdout",
     "output_type": "stream",
     "text": [
      "IsFraud\n",
      "0    50.0\n",
      "1    50.0\n",
      "Name: count, dtype: float64\n"
     ]
    }
   ],
   "source": [
    "fraud_counts = df2[\"IsFraud\"].value_counts()\n",
    "fraud_percentages = (fraud_counts / fraud_counts.sum()) * 100\n",
    "print(fraud_percentages)"
   ]
  },
  {
   "cell_type": "code",
   "execution_count": 39,
   "id": "8f26b234-6d18-47ca-9d0f-6f55d0662fe2",
   "metadata": {},
   "outputs": [
    {
     "data": {
      "text/html": [
       "<div>\n",
       "<style scoped>\n",
       "    .dataframe tbody tr th:only-of-type {\n",
       "        vertical-align: middle;\n",
       "    }\n",
       "\n",
       "    .dataframe tbody tr th {\n",
       "        vertical-align: top;\n",
       "    }\n",
       "\n",
       "    .dataframe thead th {\n",
       "        text-align: right;\n",
       "    }\n",
       "</style>\n",
       "<table border=\"1\" class=\"dataframe\">\n",
       "  <thead>\n",
       "    <tr style=\"text-align: right;\">\n",
       "      <th></th>\n",
       "      <th>TransactionHour</th>\n",
       "      <th>TransactionType</th>\n",
       "      <th>TransactionAmount</th>\n",
       "      <th>SenderBalanceBefore</th>\n",
       "      <th>ReceiverBalanceBefore</th>\n",
       "      <th>IsFraud</th>\n",
       "    </tr>\n",
       "  </thead>\n",
       "  <tbody>\n",
       "    <tr>\n",
       "      <th>9218</th>\n",
       "      <td>7</td>\n",
       "      <td>TRANSFER</td>\n",
       "      <td>717318.86</td>\n",
       "      <td>0.00</td>\n",
       "      <td>8994590.18</td>\n",
       "      <td>0</td>\n",
       "    </tr>\n",
       "    <tr>\n",
       "      <th>1069</th>\n",
       "      <td>89</td>\n",
       "      <td>CASH_OUT</td>\n",
       "      <td>43928.31</td>\n",
       "      <td>43928.31</td>\n",
       "      <td>0.00</td>\n",
       "      <td>1</td>\n",
       "    </tr>\n",
       "    <tr>\n",
       "      <th>137</th>\n",
       "      <td>12</td>\n",
       "      <td>CASH_OUT</td>\n",
       "      <td>2007.00</td>\n",
       "      <td>2007.00</td>\n",
       "      <td>129917.80</td>\n",
       "      <td>1</td>\n",
       "    </tr>\n",
       "    <tr>\n",
       "      <th>6686</th>\n",
       "      <td>6</td>\n",
       "      <td>PAYMENT</td>\n",
       "      <td>1537.12</td>\n",
       "      <td>22494.00</td>\n",
       "      <td>0.00</td>\n",
       "      <td>0</td>\n",
       "    </tr>\n",
       "    <tr>\n",
       "      <th>9418</th>\n",
       "      <td>7</td>\n",
       "      <td>PAYMENT</td>\n",
       "      <td>4801.94</td>\n",
       "      <td>15169.00</td>\n",
       "      <td>0.00</td>\n",
       "      <td>0</td>\n",
       "    </tr>\n",
       "  </tbody>\n",
       "</table>\n",
       "</div>"
      ],
      "text/plain": [
       "      TransactionHour TransactionType  TransactionAmount  SenderBalanceBefore  \\\n",
       "9218                7        TRANSFER          717318.86                 0.00   \n",
       "1069               89        CASH_OUT           43928.31             43928.31   \n",
       "137                12        CASH_OUT            2007.00              2007.00   \n",
       "6686                6         PAYMENT            1537.12             22494.00   \n",
       "9418                7         PAYMENT            4801.94             15169.00   \n",
       "\n",
       "      ReceiverBalanceBefore  IsFraud  \n",
       "9218             8994590.18        0  \n",
       "1069                   0.00        1  \n",
       "137               129917.80        1  \n",
       "6686                   0.00        0  \n",
       "9418                   0.00        0  "
      ]
     },
     "execution_count": 39,
     "metadata": {},
     "output_type": "execute_result"
    }
   ],
   "source": [
    "df2.sample(5)"
   ]
  },
  {
   "cell_type": "code",
   "execution_count": 40,
   "id": "df187197-0d10-4f25-b8d2-091b68c8fb94",
   "metadata": {},
   "outputs": [
    {
     "name": "stdout",
     "output_type": "stream",
     "text": [
      "IsFraud\n",
      "0    100.0\n",
      "Name: count, dtype: float64\n"
     ]
    }
   ],
   "source": [
    "fraud_counts_val = df_validation[\"IsFraud\"].value_counts()\n",
    "fraud_percentages_val = (fraud_counts_val / fraud_counts_val.sum()) * 100\n",
    "print(fraud_percentages_val)"
   ]
  },
  {
   "cell_type": "code",
   "execution_count": 41,
   "id": "cbeb0b9a-5069-47da-875d-c13546f665de",
   "metadata": {},
   "outputs": [
    {
     "data": {
      "text/html": [
       "<div>\n",
       "<style scoped>\n",
       "    .dataframe tbody tr th:only-of-type {\n",
       "        vertical-align: middle;\n",
       "    }\n",
       "\n",
       "    .dataframe tbody tr th {\n",
       "        vertical-align: top;\n",
       "    }\n",
       "\n",
       "    .dataframe thead th {\n",
       "        text-align: right;\n",
       "    }\n",
       "</style>\n",
       "<table border=\"1\" class=\"dataframe\">\n",
       "  <thead>\n",
       "    <tr style=\"text-align: right;\">\n",
       "      <th></th>\n",
       "      <th>TransactionHour</th>\n",
       "      <th>TransactionType</th>\n",
       "      <th>TransactionAmount</th>\n",
       "      <th>SenderBalanceBefore</th>\n",
       "      <th>SenderBalanceAfter</th>\n",
       "      <th>ReceiverBalanceBefore</th>\n",
       "      <th>ReceiverBalanceAfter</th>\n",
       "      <th>IsFraud</th>\n",
       "    </tr>\n",
       "  </thead>\n",
       "  <tbody>\n",
       "    <tr>\n",
       "      <th>1620</th>\n",
       "      <td>1</td>\n",
       "      <td>CASH_IN</td>\n",
       "      <td>193161.04</td>\n",
       "      <td>6372625.28</td>\n",
       "      <td>6565786.32</td>\n",
       "      <td>2441173.94</td>\n",
       "      <td>3940085.21</td>\n",
       "      <td>0</td>\n",
       "    </tr>\n",
       "    <tr>\n",
       "      <th>10943</th>\n",
       "      <td>7</td>\n",
       "      <td>PAYMENT</td>\n",
       "      <td>8654.44</td>\n",
       "      <td>66991.13</td>\n",
       "      <td>58336.69</td>\n",
       "      <td>0.00</td>\n",
       "      <td>0.00</td>\n",
       "      <td>0</td>\n",
       "    </tr>\n",
       "    <tr>\n",
       "      <th>9212</th>\n",
       "      <td>7</td>\n",
       "      <td>PAYMENT</td>\n",
       "      <td>4096.05</td>\n",
       "      <td>9751.00</td>\n",
       "      <td>5654.95</td>\n",
       "      <td>0.00</td>\n",
       "      <td>0.00</td>\n",
       "      <td>0</td>\n",
       "    </tr>\n",
       "    <tr>\n",
       "      <th>2799</th>\n",
       "      <td>1</td>\n",
       "      <td>PAYMENT</td>\n",
       "      <td>12762.36</td>\n",
       "      <td>15186.00</td>\n",
       "      <td>2423.64</td>\n",
       "      <td>0.00</td>\n",
       "      <td>0.00</td>\n",
       "      <td>0</td>\n",
       "    </tr>\n",
       "    <tr>\n",
       "      <th>2131</th>\n",
       "      <td>1</td>\n",
       "      <td>PAYMENT</td>\n",
       "      <td>6780.78</td>\n",
       "      <td>52640.00</td>\n",
       "      <td>45859.22</td>\n",
       "      <td>0.00</td>\n",
       "      <td>0.00</td>\n",
       "      <td>0</td>\n",
       "    </tr>\n",
       "  </tbody>\n",
       "</table>\n",
       "</div>"
      ],
      "text/plain": [
       "       TransactionHour TransactionType  TransactionAmount  \\\n",
       "1620                 1         CASH_IN          193161.04   \n",
       "10943                7         PAYMENT            8654.44   \n",
       "9212                 7         PAYMENT            4096.05   \n",
       "2799                 1         PAYMENT           12762.36   \n",
       "2131                 1         PAYMENT            6780.78   \n",
       "\n",
       "       SenderBalanceBefore  SenderBalanceAfter  ReceiverBalanceBefore  \\\n",
       "1620            6372625.28          6565786.32             2441173.94   \n",
       "10943             66991.13            58336.69                   0.00   \n",
       "9212               9751.00             5654.95                   0.00   \n",
       "2799              15186.00             2423.64                   0.00   \n",
       "2131              52640.00            45859.22                   0.00   \n",
       "\n",
       "       ReceiverBalanceAfter  IsFraud  \n",
       "1620             3940085.21        0  \n",
       "10943                  0.00        0  \n",
       "9212                   0.00        0  \n",
       "2799                   0.00        0  \n",
       "2131                   0.00        0  "
      ]
     },
     "execution_count": 41,
     "metadata": {},
     "output_type": "execute_result"
    }
   ],
   "source": [
    "df_validation.sample(5)"
   ]
  },
  {
   "cell_type": "code",
   "execution_count": 42,
   "id": "fa5c9977-d25d-45df-b68e-a1acf256ae43",
   "metadata": {},
   "outputs": [],
   "source": [
    "def categorize_transaction_hour(hour):\n",
    "    if hour <= 8:\n",
    "        return \"Low\"\n",
    "    elif hour <= 50: \n",
    "        return \"Medium\"\n",
    "    else:\n",
    "        return \"High\"\n",
    "df2[\"TransactionHour\"] = df2[\"TransactionHour\"].apply(categorize_transaction_hour)"
   ]
  },
  {
   "cell_type": "code",
   "execution_count": 43,
   "id": "e158e007-05c0-4a8c-932c-5b811c45c16d",
   "metadata": {},
   "outputs": [
    {
     "data": {
      "text/html": [
       "<div>\n",
       "<style scoped>\n",
       "    .dataframe tbody tr th:only-of-type {\n",
       "        vertical-align: middle;\n",
       "    }\n",
       "\n",
       "    .dataframe tbody tr th {\n",
       "        vertical-align: top;\n",
       "    }\n",
       "\n",
       "    .dataframe thead th {\n",
       "        text-align: right;\n",
       "    }\n",
       "</style>\n",
       "<table border=\"1\" class=\"dataframe\">\n",
       "  <thead>\n",
       "    <tr style=\"text-align: right;\">\n",
       "      <th></th>\n",
       "      <th>TransactionHour</th>\n",
       "      <th>TransactionType</th>\n",
       "      <th>TransactionAmount</th>\n",
       "      <th>SenderBalanceBefore</th>\n",
       "      <th>ReceiverBalanceBefore</th>\n",
       "      <th>IsFraud</th>\n",
       "    </tr>\n",
       "  </thead>\n",
       "  <tbody>\n",
       "    <tr>\n",
       "      <th>7394</th>\n",
       "      <td>Low</td>\n",
       "      <td>PAYMENT</td>\n",
       "      <td>33410.82</td>\n",
       "      <td>379355.65</td>\n",
       "      <td>0.00</td>\n",
       "      <td>0</td>\n",
       "    </tr>\n",
       "    <tr>\n",
       "      <th>5826</th>\n",
       "      <td>Low</td>\n",
       "      <td>DEBIT</td>\n",
       "      <td>1141.74</td>\n",
       "      <td>240677.00</td>\n",
       "      <td>29379.28</td>\n",
       "      <td>0</td>\n",
       "    </tr>\n",
       "    <tr>\n",
       "      <th>2873</th>\n",
       "      <td>Low</td>\n",
       "      <td>PAYMENT</td>\n",
       "      <td>1146.72</td>\n",
       "      <td>10248.00</td>\n",
       "      <td>0.00</td>\n",
       "      <td>0</td>\n",
       "    </tr>\n",
       "    <tr>\n",
       "      <th>5884</th>\n",
       "      <td>Low</td>\n",
       "      <td>PAYMENT</td>\n",
       "      <td>1080.65</td>\n",
       "      <td>35125.00</td>\n",
       "      <td>0.00</td>\n",
       "      <td>0</td>\n",
       "    </tr>\n",
       "    <tr>\n",
       "      <th>5663</th>\n",
       "      <td>Low</td>\n",
       "      <td>CASH_IN</td>\n",
       "      <td>382513.35</td>\n",
       "      <td>4084533.87</td>\n",
       "      <td>501046.14</td>\n",
       "      <td>0</td>\n",
       "    </tr>\n",
       "  </tbody>\n",
       "</table>\n",
       "</div>"
      ],
      "text/plain": [
       "     TransactionHour TransactionType  TransactionAmount  SenderBalanceBefore  \\\n",
       "7394             Low         PAYMENT           33410.82            379355.65   \n",
       "5826             Low           DEBIT            1141.74            240677.00   \n",
       "2873             Low         PAYMENT            1146.72             10248.00   \n",
       "5884             Low         PAYMENT            1080.65             35125.00   \n",
       "5663             Low         CASH_IN          382513.35           4084533.87   \n",
       "\n",
       "      ReceiverBalanceBefore  IsFraud  \n",
       "7394                   0.00        0  \n",
       "5826               29379.28        0  \n",
       "2873                   0.00        0  \n",
       "5884                   0.00        0  \n",
       "5663              501046.14        0  "
      ]
     },
     "execution_count": 43,
     "metadata": {},
     "output_type": "execute_result"
    }
   ],
   "source": [
    "df2.head()"
   ]
  },
  {
   "cell_type": "markdown",
   "id": "d709bf27-dedc-41a3-a6cc-7a951e5ebef7",
   "metadata": {},
   "source": [
    "Since TransactionHour is ordered, I'll use label encoding to convert it into numeric form while preserving its sequence."
   ]
  },
  {
   "cell_type": "code",
   "execution_count": 44,
   "id": "85eab713-c16b-4f38-b2df-1a776839c70c",
   "metadata": {},
   "outputs": [],
   "source": [
    "from sklearn.preprocessing import LabelEncoder\n",
    "le = LabelEncoder()\n",
    "df2[\"TransactionHour\"] = le.fit_transform(df2[\"TransactionHour\"])"
   ]
  },
  {
   "cell_type": "code",
   "execution_count": 45,
   "id": "df632d78-59df-412d-a2ee-b3455343ab58",
   "metadata": {},
   "outputs": [
    {
     "data": {
      "text/html": [
       "<div>\n",
       "<style scoped>\n",
       "    .dataframe tbody tr th:only-of-type {\n",
       "        vertical-align: middle;\n",
       "    }\n",
       "\n",
       "    .dataframe tbody tr th {\n",
       "        vertical-align: top;\n",
       "    }\n",
       "\n",
       "    .dataframe thead th {\n",
       "        text-align: right;\n",
       "    }\n",
       "</style>\n",
       "<table border=\"1\" class=\"dataframe\">\n",
       "  <thead>\n",
       "    <tr style=\"text-align: right;\">\n",
       "      <th></th>\n",
       "      <th>TransactionHour</th>\n",
       "      <th>TransactionType</th>\n",
       "      <th>TransactionAmount</th>\n",
       "      <th>SenderBalanceBefore</th>\n",
       "      <th>ReceiverBalanceBefore</th>\n",
       "      <th>IsFraud</th>\n",
       "    </tr>\n",
       "  </thead>\n",
       "  <tbody>\n",
       "    <tr>\n",
       "      <th>868</th>\n",
       "      <td>0</td>\n",
       "      <td>TRANSFER</td>\n",
       "      <td>14385.54</td>\n",
       "      <td>14385.54</td>\n",
       "      <td>0.00</td>\n",
       "      <td>1</td>\n",
       "    </tr>\n",
       "    <tr>\n",
       "      <th>7827</th>\n",
       "      <td>1</td>\n",
       "      <td>PAYMENT</td>\n",
       "      <td>28710.56</td>\n",
       "      <td>0.00</td>\n",
       "      <td>0.00</td>\n",
       "      <td>0</td>\n",
       "    </tr>\n",
       "    <tr>\n",
       "      <th>113</th>\n",
       "      <td>2</td>\n",
       "      <td>CASH_OUT</td>\n",
       "      <td>93810.76</td>\n",
       "      <td>93810.76</td>\n",
       "      <td>4096048.05</td>\n",
       "      <td>1</td>\n",
       "    </tr>\n",
       "  </tbody>\n",
       "</table>\n",
       "</div>"
      ],
      "text/plain": [
       "      TransactionHour TransactionType  TransactionAmount  SenderBalanceBefore  \\\n",
       "868                 0        TRANSFER           14385.54             14385.54   \n",
       "7827                1         PAYMENT           28710.56                 0.00   \n",
       "113                 2        CASH_OUT           93810.76             93810.76   \n",
       "\n",
       "      ReceiverBalanceBefore  IsFraud  \n",
       "868                    0.00        1  \n",
       "7827                   0.00        0  \n",
       "113              4096048.05        1  "
      ]
     },
     "execution_count": 45,
     "metadata": {},
     "output_type": "execute_result"
    }
   ],
   "source": [
    "df2.sample(3)"
   ]
  },
  {
   "cell_type": "markdown",
   "id": "899ec2af-e6fb-424d-8d0f-e604299de60c",
   "metadata": {},
   "source": [
    "TransactionType is not in order so i will do OHE"
   ]
  },
  {
   "cell_type": "code",
   "execution_count": 46,
   "id": "c847fd08-3419-46de-9f00-5a2623faa95a",
   "metadata": {},
   "outputs": [],
   "source": [
    "from sklearn.preprocessing import OneHotEncoder\n",
    "\n",
    "encoder = OneHotEncoder(drop=\"first\", dtype=int, sparse_output=False)\n",
    "encoded = encoder.fit_transform(df2[[\"TransactionType\"]])\n",
    "df2 = df2.drop(columns=[\"TransactionType\"])\n",
    "df2[encoder.get_feature_names_out([\"TransactionType\"])] = encoded"
   ]
  },
  {
   "cell_type": "code",
   "execution_count": 47,
   "id": "95d8a9b9-3743-4f70-b240-a5b4a2ea6e77",
   "metadata": {},
   "outputs": [
    {
     "data": {
      "text/html": [
       "<div>\n",
       "<style scoped>\n",
       "    .dataframe tbody tr th:only-of-type {\n",
       "        vertical-align: middle;\n",
       "    }\n",
       "\n",
       "    .dataframe tbody tr th {\n",
       "        vertical-align: top;\n",
       "    }\n",
       "\n",
       "    .dataframe thead th {\n",
       "        text-align: right;\n",
       "    }\n",
       "</style>\n",
       "<table border=\"1\" class=\"dataframe\">\n",
       "  <thead>\n",
       "    <tr style=\"text-align: right;\">\n",
       "      <th></th>\n",
       "      <th>TransactionHour</th>\n",
       "      <th>TransactionAmount</th>\n",
       "      <th>SenderBalanceBefore</th>\n",
       "      <th>ReceiverBalanceBefore</th>\n",
       "      <th>IsFraud</th>\n",
       "      <th>TransactionType_CASH_OUT</th>\n",
       "      <th>TransactionType_DEBIT</th>\n",
       "      <th>TransactionType_PAYMENT</th>\n",
       "      <th>TransactionType_TRANSFER</th>\n",
       "    </tr>\n",
       "  </thead>\n",
       "  <tbody>\n",
       "    <tr>\n",
       "      <th>7394</th>\n",
       "      <td>1</td>\n",
       "      <td>33410.82</td>\n",
       "      <td>379355.65</td>\n",
       "      <td>0.00</td>\n",
       "      <td>0</td>\n",
       "      <td>0</td>\n",
       "      <td>0</td>\n",
       "      <td>1</td>\n",
       "      <td>0</td>\n",
       "    </tr>\n",
       "    <tr>\n",
       "      <th>5826</th>\n",
       "      <td>1</td>\n",
       "      <td>1141.74</td>\n",
       "      <td>240677.00</td>\n",
       "      <td>29379.28</td>\n",
       "      <td>0</td>\n",
       "      <td>0</td>\n",
       "      <td>1</td>\n",
       "      <td>0</td>\n",
       "      <td>0</td>\n",
       "    </tr>\n",
       "    <tr>\n",
       "      <th>2873</th>\n",
       "      <td>1</td>\n",
       "      <td>1146.72</td>\n",
       "      <td>10248.00</td>\n",
       "      <td>0.00</td>\n",
       "      <td>0</td>\n",
       "      <td>0</td>\n",
       "      <td>0</td>\n",
       "      <td>1</td>\n",
       "      <td>0</td>\n",
       "    </tr>\n",
       "    <tr>\n",
       "      <th>5884</th>\n",
       "      <td>1</td>\n",
       "      <td>1080.65</td>\n",
       "      <td>35125.00</td>\n",
       "      <td>0.00</td>\n",
       "      <td>0</td>\n",
       "      <td>0</td>\n",
       "      <td>0</td>\n",
       "      <td>1</td>\n",
       "      <td>0</td>\n",
       "    </tr>\n",
       "    <tr>\n",
       "      <th>5663</th>\n",
       "      <td>1</td>\n",
       "      <td>382513.35</td>\n",
       "      <td>4084533.87</td>\n",
       "      <td>501046.14</td>\n",
       "      <td>0</td>\n",
       "      <td>0</td>\n",
       "      <td>0</td>\n",
       "      <td>0</td>\n",
       "      <td>0</td>\n",
       "    </tr>\n",
       "  </tbody>\n",
       "</table>\n",
       "</div>"
      ],
      "text/plain": [
       "      TransactionHour  TransactionAmount  SenderBalanceBefore  \\\n",
       "7394                1           33410.82            379355.65   \n",
       "5826                1            1141.74            240677.00   \n",
       "2873                1            1146.72             10248.00   \n",
       "5884                1            1080.65             35125.00   \n",
       "5663                1          382513.35           4084533.87   \n",
       "\n",
       "      ReceiverBalanceBefore  IsFraud  TransactionType_CASH_OUT  \\\n",
       "7394                   0.00        0                         0   \n",
       "5826               29379.28        0                         0   \n",
       "2873                   0.00        0                         0   \n",
       "5884                   0.00        0                         0   \n",
       "5663              501046.14        0                         0   \n",
       "\n",
       "      TransactionType_DEBIT  TransactionType_PAYMENT  TransactionType_TRANSFER  \n",
       "7394                      0                        1                         0  \n",
       "5826                      1                        0                         0  \n",
       "2873                      0                        1                         0  \n",
       "5884                      0                        1                         0  \n",
       "5663                      0                        0                         0  "
      ]
     },
     "execution_count": 47,
     "metadata": {},
     "output_type": "execute_result"
    }
   ],
   "source": [
    "df2.head(5)"
   ]
  },
  {
   "cell_type": "code",
   "execution_count": 48,
   "id": "e51efc92-2ff4-4647-adbd-f08a7368b4eb",
   "metadata": {},
   "outputs": [
    {
     "data": {
      "text/plain": [
       "0"
      ]
     },
     "execution_count": 48,
     "metadata": {},
     "output_type": "execute_result"
    }
   ],
   "source": [
    "df2.isnull().sum().sum()"
   ]
  },
  {
   "cell_type": "markdown",
   "id": "b8fb8422-2c9f-4f37-9986-5acce4b2489b",
   "metadata": {},
   "source": [
    "TransactionAmount, SenderBalanceBefore, and SenderBalanceAfter should be scaled using StandardScaler because they have a wide range and  have outliers.\n",
    "\n",
    "\n",
    "\n",
    "\n",
    "\n",
    "\n"
   ]
  },
  {
   "cell_type": "code",
   "execution_count": 49,
   "id": "933952ae-c2ef-4013-b6e5-52de73463698",
   "metadata": {},
   "outputs": [],
   "source": [
    "from sklearn.preprocessing import StandardScaler\n",
    "\n",
    "scaler = StandardScaler()\n",
    "df2[['TransactionAmount', 'SenderBalanceBefore', 'ReceiverBalanceBefore']] = scaler.fit_transform(df2[['TransactionAmount', 'SenderBalanceBefore' ,'ReceiverBalanceBefore']])"
   ]
  },
  {
   "cell_type": "code",
   "execution_count": 50,
   "id": "ef5a3d3d-c899-4ad4-ab99-6c41786ddcf6",
   "metadata": {},
   "outputs": [
    {
     "data": {
      "text/html": [
       "<div>\n",
       "<style scoped>\n",
       "    .dataframe tbody tr th:only-of-type {\n",
       "        vertical-align: middle;\n",
       "    }\n",
       "\n",
       "    .dataframe tbody tr th {\n",
       "        vertical-align: top;\n",
       "    }\n",
       "\n",
       "    .dataframe thead th {\n",
       "        text-align: right;\n",
       "    }\n",
       "</style>\n",
       "<table border=\"1\" class=\"dataframe\">\n",
       "  <thead>\n",
       "    <tr style=\"text-align: right;\">\n",
       "      <th></th>\n",
       "      <th>TransactionHour</th>\n",
       "      <th>TransactionAmount</th>\n",
       "      <th>SenderBalanceBefore</th>\n",
       "      <th>ReceiverBalanceBefore</th>\n",
       "      <th>IsFraud</th>\n",
       "      <th>TransactionType_CASH_OUT</th>\n",
       "      <th>TransactionType_DEBIT</th>\n",
       "      <th>TransactionType_PAYMENT</th>\n",
       "      <th>TransactionType_TRANSFER</th>\n",
       "    </tr>\n",
       "  </thead>\n",
       "  <tbody>\n",
       "    <tr>\n",
       "      <th>7394</th>\n",
       "      <td>1</td>\n",
       "      <td>-0.395208</td>\n",
       "      <td>-0.305440</td>\n",
       "      <td>-0.305207</td>\n",
       "      <td>0</td>\n",
       "      <td>0</td>\n",
       "      <td>0</td>\n",
       "      <td>1</td>\n",
       "      <td>0</td>\n",
       "    </tr>\n",
       "    <tr>\n",
       "      <th>5826</th>\n",
       "      <td>1</td>\n",
       "      <td>-0.416116</td>\n",
       "      <td>-0.370287</td>\n",
       "      <td>-0.290575</td>\n",
       "      <td>0</td>\n",
       "      <td>0</td>\n",
       "      <td>1</td>\n",
       "      <td>0</td>\n",
       "      <td>0</td>\n",
       "    </tr>\n",
       "    <tr>\n",
       "      <th>2873</th>\n",
       "      <td>1</td>\n",
       "      <td>-0.416112</td>\n",
       "      <td>-0.478038</td>\n",
       "      <td>-0.305207</td>\n",
       "      <td>0</td>\n",
       "      <td>0</td>\n",
       "      <td>0</td>\n",
       "      <td>1</td>\n",
       "      <td>0</td>\n",
       "    </tr>\n",
       "    <tr>\n",
       "      <th>5884</th>\n",
       "      <td>1</td>\n",
       "      <td>-0.416155</td>\n",
       "      <td>-0.466405</td>\n",
       "      <td>-0.305207</td>\n",
       "      <td>0</td>\n",
       "      <td>0</td>\n",
       "      <td>0</td>\n",
       "      <td>1</td>\n",
       "      <td>0</td>\n",
       "    </tr>\n",
       "    <tr>\n",
       "      <th>5663</th>\n",
       "      <td>1</td>\n",
       "      <td>-0.169021</td>\n",
       "      <td>1.427136</td>\n",
       "      <td>-0.055663</td>\n",
       "      <td>0</td>\n",
       "      <td>0</td>\n",
       "      <td>0</td>\n",
       "      <td>0</td>\n",
       "      <td>0</td>\n",
       "    </tr>\n",
       "  </tbody>\n",
       "</table>\n",
       "</div>"
      ],
      "text/plain": [
       "      TransactionHour  TransactionAmount  SenderBalanceBefore  \\\n",
       "7394                1          -0.395208            -0.305440   \n",
       "5826                1          -0.416116            -0.370287   \n",
       "2873                1          -0.416112            -0.478038   \n",
       "5884                1          -0.416155            -0.466405   \n",
       "5663                1          -0.169021             1.427136   \n",
       "\n",
       "      ReceiverBalanceBefore  IsFraud  TransactionType_CASH_OUT  \\\n",
       "7394              -0.305207        0                         0   \n",
       "5826              -0.290575        0                         0   \n",
       "2873              -0.305207        0                         0   \n",
       "5884              -0.305207        0                         0   \n",
       "5663              -0.055663        0                         0   \n",
       "\n",
       "      TransactionType_DEBIT  TransactionType_PAYMENT  TransactionType_TRANSFER  \n",
       "7394                      0                        1                         0  \n",
       "5826                      1                        0                         0  \n",
       "2873                      0                        1                         0  \n",
       "5884                      0                        1                         0  \n",
       "5663                      0                        0                         0  "
      ]
     },
     "execution_count": 50,
     "metadata": {},
     "output_type": "execute_result"
    }
   ],
   "source": [
    "df2.head(5)"
   ]
  },
  {
   "cell_type": "markdown",
   "id": "214fee2c-377a-434f-8de5-2ad59ff350c0",
   "metadata": {},
   "source": [
    "Now,i will divide x independent features and y taget feature"
   ]
  },
  {
   "cell_type": "code",
   "execution_count": 51,
   "id": "61ad5244-cd5a-4f41-b275-b94dba81a981",
   "metadata": {},
   "outputs": [],
   "source": [
    "X = df2.drop(columns=[\"IsFraud\"])\n",
    "y = df2[\"IsFraud\"] "
   ]
  },
  {
   "cell_type": "markdown",
   "id": "b4d6f702-17b1-4111-b9ea-356beaed52bf",
   "metadata": {},
   "source": [
    "Now, i will split our data into training and testing sets to evaluate the model's performance on unseen data."
   ]
  },
  {
   "cell_type": "code",
   "execution_count": 52,
   "id": "51705dbb-a176-43ec-87b7-808eebe680df",
   "metadata": {},
   "outputs": [
    {
     "data": {
      "text/plain": [
       "((1827, 8), (457, 8), (1827,), (457,))"
      ]
     },
     "execution_count": 52,
     "metadata": {},
     "output_type": "execute_result"
    }
   ],
   "source": [
    "from sklearn.model_selection import train_test_split\n",
    "X_train, X_test, y_train, y_test = train_test_split(X, y, test_size=0.2, random_state=42)\n",
    "X_train.shape, X_test.shape, y_train.shape, y_test.shape"
   ]
  },
  {
   "cell_type": "markdown",
   "id": "95590265-5840-4ccf-ab16-56e746552da8",
   "metadata": {},
   "source": [
    "# Model Building"
   ]
  },
  {
   "cell_type": "markdown",
   "id": "a1ccfd65-bb66-43e5-986c-6b96489337c2",
   "metadata": {},
   "source": [
    "Our problem is a classification task, so we will start with Logistic Regression. We will analyze the confusion matrix to identify Type I and Type II errors and determine which mistake is more critical. Based on this, we will calculate precision and recall. If Logistic Regression does not give good results, we will try other algorithms to achieve the best performance."
   ]
  },
  {
   "cell_type": "code",
   "execution_count": 53,
   "id": "7f07a3c8-5baf-4ecb-b90d-c53cc6e0db23",
   "metadata": {},
   "outputs": [
    {
     "data": {
      "text/plain": [
       "IsFraud\n",
       "1    915\n",
       "0    912\n",
       "Name: count, dtype: int64"
      ]
     },
     "execution_count": 53,
     "metadata": {},
     "output_type": "execute_result"
    }
   ],
   "source": [
    "y_train.value_counts()"
   ]
  },
  {
   "cell_type": "code",
   "execution_count": 54,
   "id": "1236886b-ce21-4761-b139-6563fe37dc5d",
   "metadata": {},
   "outputs": [
    {
     "data": {
      "text/plain": [
       "IsFraud\n",
       "0    230\n",
       "1    227\n",
       "Name: count, dtype: int64"
      ]
     },
     "execution_count": 54,
     "metadata": {},
     "output_type": "execute_result"
    }
   ],
   "source": [
    "y_test.value_counts()"
   ]
  },
  {
   "cell_type": "code",
   "execution_count": 55,
   "id": "7e1f4e5e-4248-4bc4-b907-6e82a6e42b86",
   "metadata": {},
   "outputs": [
    {
     "data": {
      "text/html": [
       "<style>#sk-container-id-1 {\n",
       "  /* Definition of color scheme common for light and dark mode */\n",
       "  --sklearn-color-text: black;\n",
       "  --sklearn-color-line: gray;\n",
       "  /* Definition of color scheme for unfitted estimators */\n",
       "  --sklearn-color-unfitted-level-0: #fff5e6;\n",
       "  --sklearn-color-unfitted-level-1: #f6e4d2;\n",
       "  --sklearn-color-unfitted-level-2: #ffe0b3;\n",
       "  --sklearn-color-unfitted-level-3: chocolate;\n",
       "  /* Definition of color scheme for fitted estimators */\n",
       "  --sklearn-color-fitted-level-0: #f0f8ff;\n",
       "  --sklearn-color-fitted-level-1: #d4ebff;\n",
       "  --sklearn-color-fitted-level-2: #b3dbfd;\n",
       "  --sklearn-color-fitted-level-3: cornflowerblue;\n",
       "\n",
       "  /* Specific color for light theme */\n",
       "  --sklearn-color-text-on-default-background: var(--sg-text-color, var(--theme-code-foreground, var(--jp-content-font-color1, black)));\n",
       "  --sklearn-color-background: var(--sg-background-color, var(--theme-background, var(--jp-layout-color0, white)));\n",
       "  --sklearn-color-border-box: var(--sg-text-color, var(--theme-code-foreground, var(--jp-content-font-color1, black)));\n",
       "  --sklearn-color-icon: #696969;\n",
       "\n",
       "  @media (prefers-color-scheme: dark) {\n",
       "    /* Redefinition of color scheme for dark theme */\n",
       "    --sklearn-color-text-on-default-background: var(--sg-text-color, var(--theme-code-foreground, var(--jp-content-font-color1, white)));\n",
       "    --sklearn-color-background: var(--sg-background-color, var(--theme-background, var(--jp-layout-color0, #111)));\n",
       "    --sklearn-color-border-box: var(--sg-text-color, var(--theme-code-foreground, var(--jp-content-font-color1, white)));\n",
       "    --sklearn-color-icon: #878787;\n",
       "  }\n",
       "}\n",
       "\n",
       "#sk-container-id-1 {\n",
       "  color: var(--sklearn-color-text);\n",
       "}\n",
       "\n",
       "#sk-container-id-1 pre {\n",
       "  padding: 0;\n",
       "}\n",
       "\n",
       "#sk-container-id-1 input.sk-hidden--visually {\n",
       "  border: 0;\n",
       "  clip: rect(1px 1px 1px 1px);\n",
       "  clip: rect(1px, 1px, 1px, 1px);\n",
       "  height: 1px;\n",
       "  margin: -1px;\n",
       "  overflow: hidden;\n",
       "  padding: 0;\n",
       "  position: absolute;\n",
       "  width: 1px;\n",
       "}\n",
       "\n",
       "#sk-container-id-1 div.sk-dashed-wrapped {\n",
       "  border: 1px dashed var(--sklearn-color-line);\n",
       "  margin: 0 0.4em 0.5em 0.4em;\n",
       "  box-sizing: border-box;\n",
       "  padding-bottom: 0.4em;\n",
       "  background-color: var(--sklearn-color-background);\n",
       "}\n",
       "\n",
       "#sk-container-id-1 div.sk-container {\n",
       "  /* jupyter's `normalize.less` sets `[hidden] { display: none; }`\n",
       "     but bootstrap.min.css set `[hidden] { display: none !important; }`\n",
       "     so we also need the `!important` here to be able to override the\n",
       "     default hidden behavior on the sphinx rendered scikit-learn.org.\n",
       "     See: https://github.com/scikit-learn/scikit-learn/issues/21755 */\n",
       "  display: inline-block !important;\n",
       "  position: relative;\n",
       "}\n",
       "\n",
       "#sk-container-id-1 div.sk-text-repr-fallback {\n",
       "  display: none;\n",
       "}\n",
       "\n",
       "div.sk-parallel-item,\n",
       "div.sk-serial,\n",
       "div.sk-item {\n",
       "  /* draw centered vertical line to link estimators */\n",
       "  background-image: linear-gradient(var(--sklearn-color-text-on-default-background), var(--sklearn-color-text-on-default-background));\n",
       "  background-size: 2px 100%;\n",
       "  background-repeat: no-repeat;\n",
       "  background-position: center center;\n",
       "}\n",
       "\n",
       "/* Parallel-specific style estimator block */\n",
       "\n",
       "#sk-container-id-1 div.sk-parallel-item::after {\n",
       "  content: \"\";\n",
       "  width: 100%;\n",
       "  border-bottom: 2px solid var(--sklearn-color-text-on-default-background);\n",
       "  flex-grow: 1;\n",
       "}\n",
       "\n",
       "#sk-container-id-1 div.sk-parallel {\n",
       "  display: flex;\n",
       "  align-items: stretch;\n",
       "  justify-content: center;\n",
       "  background-color: var(--sklearn-color-background);\n",
       "  position: relative;\n",
       "}\n",
       "\n",
       "#sk-container-id-1 div.sk-parallel-item {\n",
       "  display: flex;\n",
       "  flex-direction: column;\n",
       "}\n",
       "\n",
       "#sk-container-id-1 div.sk-parallel-item:first-child::after {\n",
       "  align-self: flex-end;\n",
       "  width: 50%;\n",
       "}\n",
       "\n",
       "#sk-container-id-1 div.sk-parallel-item:last-child::after {\n",
       "  align-self: flex-start;\n",
       "  width: 50%;\n",
       "}\n",
       "\n",
       "#sk-container-id-1 div.sk-parallel-item:only-child::after {\n",
       "  width: 0;\n",
       "}\n",
       "\n",
       "/* Serial-specific style estimator block */\n",
       "\n",
       "#sk-container-id-1 div.sk-serial {\n",
       "  display: flex;\n",
       "  flex-direction: column;\n",
       "  align-items: center;\n",
       "  background-color: var(--sklearn-color-background);\n",
       "  padding-right: 1em;\n",
       "  padding-left: 1em;\n",
       "}\n",
       "\n",
       "\n",
       "/* Toggleable style: style used for estimator/Pipeline/ColumnTransformer box that is\n",
       "clickable and can be expanded/collapsed.\n",
       "- Pipeline and ColumnTransformer use this feature and define the default style\n",
       "- Estimators will overwrite some part of the style using the `sk-estimator` class\n",
       "*/\n",
       "\n",
       "/* Pipeline and ColumnTransformer style (default) */\n",
       "\n",
       "#sk-container-id-1 div.sk-toggleable {\n",
       "  /* Default theme specific background. It is overwritten whether we have a\n",
       "  specific estimator or a Pipeline/ColumnTransformer */\n",
       "  background-color: var(--sklearn-color-background);\n",
       "}\n",
       "\n",
       "/* Toggleable label */\n",
       "#sk-container-id-1 label.sk-toggleable__label {\n",
       "  cursor: pointer;\n",
       "  display: block;\n",
       "  width: 100%;\n",
       "  margin-bottom: 0;\n",
       "  padding: 0.5em;\n",
       "  box-sizing: border-box;\n",
       "  text-align: center;\n",
       "}\n",
       "\n",
       "#sk-container-id-1 label.sk-toggleable__label-arrow:before {\n",
       "  /* Arrow on the left of the label */\n",
       "  content: \"▸\";\n",
       "  float: left;\n",
       "  margin-right: 0.25em;\n",
       "  color: var(--sklearn-color-icon);\n",
       "}\n",
       "\n",
       "#sk-container-id-1 label.sk-toggleable__label-arrow:hover:before {\n",
       "  color: var(--sklearn-color-text);\n",
       "}\n",
       "\n",
       "/* Toggleable content - dropdown */\n",
       "\n",
       "#sk-container-id-1 div.sk-toggleable__content {\n",
       "  max-height: 0;\n",
       "  max-width: 0;\n",
       "  overflow: hidden;\n",
       "  text-align: left;\n",
       "  /* unfitted */\n",
       "  background-color: var(--sklearn-color-unfitted-level-0);\n",
       "}\n",
       "\n",
       "#sk-container-id-1 div.sk-toggleable__content.fitted {\n",
       "  /* fitted */\n",
       "  background-color: var(--sklearn-color-fitted-level-0);\n",
       "}\n",
       "\n",
       "#sk-container-id-1 div.sk-toggleable__content pre {\n",
       "  margin: 0.2em;\n",
       "  border-radius: 0.25em;\n",
       "  color: var(--sklearn-color-text);\n",
       "  /* unfitted */\n",
       "  background-color: var(--sklearn-color-unfitted-level-0);\n",
       "}\n",
       "\n",
       "#sk-container-id-1 div.sk-toggleable__content.fitted pre {\n",
       "  /* unfitted */\n",
       "  background-color: var(--sklearn-color-fitted-level-0);\n",
       "}\n",
       "\n",
       "#sk-container-id-1 input.sk-toggleable__control:checked~div.sk-toggleable__content {\n",
       "  /* Expand drop-down */\n",
       "  max-height: 200px;\n",
       "  max-width: 100%;\n",
       "  overflow: auto;\n",
       "}\n",
       "\n",
       "#sk-container-id-1 input.sk-toggleable__control:checked~label.sk-toggleable__label-arrow:before {\n",
       "  content: \"▾\";\n",
       "}\n",
       "\n",
       "/* Pipeline/ColumnTransformer-specific style */\n",
       "\n",
       "#sk-container-id-1 div.sk-label input.sk-toggleable__control:checked~label.sk-toggleable__label {\n",
       "  color: var(--sklearn-color-text);\n",
       "  background-color: var(--sklearn-color-unfitted-level-2);\n",
       "}\n",
       "\n",
       "#sk-container-id-1 div.sk-label.fitted input.sk-toggleable__control:checked~label.sk-toggleable__label {\n",
       "  background-color: var(--sklearn-color-fitted-level-2);\n",
       "}\n",
       "\n",
       "/* Estimator-specific style */\n",
       "\n",
       "/* Colorize estimator box */\n",
       "#sk-container-id-1 div.sk-estimator input.sk-toggleable__control:checked~label.sk-toggleable__label {\n",
       "  /* unfitted */\n",
       "  background-color: var(--sklearn-color-unfitted-level-2);\n",
       "}\n",
       "\n",
       "#sk-container-id-1 div.sk-estimator.fitted input.sk-toggleable__control:checked~label.sk-toggleable__label {\n",
       "  /* fitted */\n",
       "  background-color: var(--sklearn-color-fitted-level-2);\n",
       "}\n",
       "\n",
       "#sk-container-id-1 div.sk-label label.sk-toggleable__label,\n",
       "#sk-container-id-1 div.sk-label label {\n",
       "  /* The background is the default theme color */\n",
       "  color: var(--sklearn-color-text-on-default-background);\n",
       "}\n",
       "\n",
       "/* On hover, darken the color of the background */\n",
       "#sk-container-id-1 div.sk-label:hover label.sk-toggleable__label {\n",
       "  color: var(--sklearn-color-text);\n",
       "  background-color: var(--sklearn-color-unfitted-level-2);\n",
       "}\n",
       "\n",
       "/* Label box, darken color on hover, fitted */\n",
       "#sk-container-id-1 div.sk-label.fitted:hover label.sk-toggleable__label.fitted {\n",
       "  color: var(--sklearn-color-text);\n",
       "  background-color: var(--sklearn-color-fitted-level-2);\n",
       "}\n",
       "\n",
       "/* Estimator label */\n",
       "\n",
       "#sk-container-id-1 div.sk-label label {\n",
       "  font-family: monospace;\n",
       "  font-weight: bold;\n",
       "  display: inline-block;\n",
       "  line-height: 1.2em;\n",
       "}\n",
       "\n",
       "#sk-container-id-1 div.sk-label-container {\n",
       "  text-align: center;\n",
       "}\n",
       "\n",
       "/* Estimator-specific */\n",
       "#sk-container-id-1 div.sk-estimator {\n",
       "  font-family: monospace;\n",
       "  border: 1px dotted var(--sklearn-color-border-box);\n",
       "  border-radius: 0.25em;\n",
       "  box-sizing: border-box;\n",
       "  margin-bottom: 0.5em;\n",
       "  /* unfitted */\n",
       "  background-color: var(--sklearn-color-unfitted-level-0);\n",
       "}\n",
       "\n",
       "#sk-container-id-1 div.sk-estimator.fitted {\n",
       "  /* fitted */\n",
       "  background-color: var(--sklearn-color-fitted-level-0);\n",
       "}\n",
       "\n",
       "/* on hover */\n",
       "#sk-container-id-1 div.sk-estimator:hover {\n",
       "  /* unfitted */\n",
       "  background-color: var(--sklearn-color-unfitted-level-2);\n",
       "}\n",
       "\n",
       "#sk-container-id-1 div.sk-estimator.fitted:hover {\n",
       "  /* fitted */\n",
       "  background-color: var(--sklearn-color-fitted-level-2);\n",
       "}\n",
       "\n",
       "/* Specification for estimator info (e.g. \"i\" and \"?\") */\n",
       "\n",
       "/* Common style for \"i\" and \"?\" */\n",
       "\n",
       ".sk-estimator-doc-link,\n",
       "a:link.sk-estimator-doc-link,\n",
       "a:visited.sk-estimator-doc-link {\n",
       "  float: right;\n",
       "  font-size: smaller;\n",
       "  line-height: 1em;\n",
       "  font-family: monospace;\n",
       "  background-color: var(--sklearn-color-background);\n",
       "  border-radius: 1em;\n",
       "  height: 1em;\n",
       "  width: 1em;\n",
       "  text-decoration: none !important;\n",
       "  margin-left: 1ex;\n",
       "  /* unfitted */\n",
       "  border: var(--sklearn-color-unfitted-level-1) 1pt solid;\n",
       "  color: var(--sklearn-color-unfitted-level-1);\n",
       "}\n",
       "\n",
       ".sk-estimator-doc-link.fitted,\n",
       "a:link.sk-estimator-doc-link.fitted,\n",
       "a:visited.sk-estimator-doc-link.fitted {\n",
       "  /* fitted */\n",
       "  border: var(--sklearn-color-fitted-level-1) 1pt solid;\n",
       "  color: var(--sklearn-color-fitted-level-1);\n",
       "}\n",
       "\n",
       "/* On hover */\n",
       "div.sk-estimator:hover .sk-estimator-doc-link:hover,\n",
       ".sk-estimator-doc-link:hover,\n",
       "div.sk-label-container:hover .sk-estimator-doc-link:hover,\n",
       ".sk-estimator-doc-link:hover {\n",
       "  /* unfitted */\n",
       "  background-color: var(--sklearn-color-unfitted-level-3);\n",
       "  color: var(--sklearn-color-background);\n",
       "  text-decoration: none;\n",
       "}\n",
       "\n",
       "div.sk-estimator.fitted:hover .sk-estimator-doc-link.fitted:hover,\n",
       ".sk-estimator-doc-link.fitted:hover,\n",
       "div.sk-label-container:hover .sk-estimator-doc-link.fitted:hover,\n",
       ".sk-estimator-doc-link.fitted:hover {\n",
       "  /* fitted */\n",
       "  background-color: var(--sklearn-color-fitted-level-3);\n",
       "  color: var(--sklearn-color-background);\n",
       "  text-decoration: none;\n",
       "}\n",
       "\n",
       "/* Span, style for the box shown on hovering the info icon */\n",
       ".sk-estimator-doc-link span {\n",
       "  display: none;\n",
       "  z-index: 9999;\n",
       "  position: relative;\n",
       "  font-weight: normal;\n",
       "  right: .2ex;\n",
       "  padding: .5ex;\n",
       "  margin: .5ex;\n",
       "  width: min-content;\n",
       "  min-width: 20ex;\n",
       "  max-width: 50ex;\n",
       "  color: var(--sklearn-color-text);\n",
       "  box-shadow: 2pt 2pt 4pt #999;\n",
       "  /* unfitted */\n",
       "  background: var(--sklearn-color-unfitted-level-0);\n",
       "  border: .5pt solid var(--sklearn-color-unfitted-level-3);\n",
       "}\n",
       "\n",
       ".sk-estimator-doc-link.fitted span {\n",
       "  /* fitted */\n",
       "  background: var(--sklearn-color-fitted-level-0);\n",
       "  border: var(--sklearn-color-fitted-level-3);\n",
       "}\n",
       "\n",
       ".sk-estimator-doc-link:hover span {\n",
       "  display: block;\n",
       "}\n",
       "\n",
       "/* \"?\"-specific style due to the `<a>` HTML tag */\n",
       "\n",
       "#sk-container-id-1 a.estimator_doc_link {\n",
       "  float: right;\n",
       "  font-size: 1rem;\n",
       "  line-height: 1em;\n",
       "  font-family: monospace;\n",
       "  background-color: var(--sklearn-color-background);\n",
       "  border-radius: 1rem;\n",
       "  height: 1rem;\n",
       "  width: 1rem;\n",
       "  text-decoration: none;\n",
       "  /* unfitted */\n",
       "  color: var(--sklearn-color-unfitted-level-1);\n",
       "  border: var(--sklearn-color-unfitted-level-1) 1pt solid;\n",
       "}\n",
       "\n",
       "#sk-container-id-1 a.estimator_doc_link.fitted {\n",
       "  /* fitted */\n",
       "  border: var(--sklearn-color-fitted-level-1) 1pt solid;\n",
       "  color: var(--sklearn-color-fitted-level-1);\n",
       "}\n",
       "\n",
       "/* On hover */\n",
       "#sk-container-id-1 a.estimator_doc_link:hover {\n",
       "  /* unfitted */\n",
       "  background-color: var(--sklearn-color-unfitted-level-3);\n",
       "  color: var(--sklearn-color-background);\n",
       "  text-decoration: none;\n",
       "}\n",
       "\n",
       "#sk-container-id-1 a.estimator_doc_link.fitted:hover {\n",
       "  /* fitted */\n",
       "  background-color: var(--sklearn-color-fitted-level-3);\n",
       "}\n",
       "</style><div id=\"sk-container-id-1\" class=\"sk-top-container\"><div class=\"sk-text-repr-fallback\"><pre>LogisticRegression()</pre><b>In a Jupyter environment, please rerun this cell to show the HTML representation or trust the notebook. <br />On GitHub, the HTML representation is unable to render, please try loading this page with nbviewer.org.</b></div><div class=\"sk-container\" hidden><div class=\"sk-item\"><div class=\"sk-estimator fitted sk-toggleable\"><input class=\"sk-toggleable__control sk-hidden--visually\" id=\"sk-estimator-id-1\" type=\"checkbox\" checked><label for=\"sk-estimator-id-1\" class=\"sk-toggleable__label fitted sk-toggleable__label-arrow fitted\">&nbsp;&nbsp;LogisticRegression<a class=\"sk-estimator-doc-link fitted\" rel=\"noreferrer\" target=\"_blank\" href=\"https://scikit-learn.org/1.5/modules/generated/sklearn.linear_model.LogisticRegression.html\">?<span>Documentation for LogisticRegression</span></a><span class=\"sk-estimator-doc-link fitted\">i<span>Fitted</span></span></label><div class=\"sk-toggleable__content fitted\"><pre>LogisticRegression()</pre></div> </div></div></div></div>"
      ],
      "text/plain": [
       "LogisticRegression()"
      ]
     },
     "execution_count": 55,
     "metadata": {},
     "output_type": "execute_result"
    }
   ],
   "source": [
    "from sklearn.linear_model import LogisticRegression\n",
    "from sklearn.metrics import accuracy_score\n",
    "\n",
    "modelLR = LogisticRegression()\n",
    "modelLR.fit(X_train, y_train)"
   ]
  },
  {
   "cell_type": "code",
   "execution_count": 56,
   "id": "c48744e5-aacc-4e86-8e4e-b53cda00d08d",
   "metadata": {},
   "outputs": [
    {
     "name": "stdout",
     "output_type": "stream",
     "text": [
      "0.8970990695128627\n"
     ]
    }
   ],
   "source": [
    "train_preds = modelLR.predict(X_train)\n",
    "accuracy = accuracy_score(y_train, train_preds)\n",
    "print(accuracy)"
   ]
  },
  {
   "cell_type": "markdown",
   "id": "fcfd3f83-2fdf-46ab-976d-79b4a3bf21a3",
   "metadata": {},
   "source": [
    "Type 2 Error (False Negative) is more critical because it means failing to detect a fraudulent transaction, allowing fraudsters to succeed, leading to financial losses and security risks. In contrast, Type 1 Error (False Positive) incorrectly flags a legitimate transaction as fraud, causing inconvenience but not direct harm. Since fraud prevention is the main goal, minimizing Type 2 Errors is crucial, even if it slightly increases Type 1 Errors. This is why recall is prioritized over precision, ensuring that most fraudulent transactions are detected rather than missed.\n",
    "\n",
    "\n",
    "\n",
    "\n",
    "\n",
    "\n"
   ]
  },
  {
   "cell_type": "code",
   "execution_count": 58,
   "id": "2b5f7f41-67f1-4c04-a371-c7787cb902bd",
   "metadata": {},
   "outputs": [
    {
     "name": "stdout",
     "output_type": "stream",
     "text": [
      "Recall Score: 0.986784140969163\n",
      "f1_score: 0.9014084507042254\n",
      "Accuracy: 0.8927789934354485\n",
      "Confusion Matrix:\n",
      " [[184  46]\n",
      " [  3 224]]\n",
      "precision: 0.8296296296296296\n"
     ]
    }
   ],
   "source": [
    "from sklearn.metrics import recall_score, f1_score, precision_score , confusion_matrix\n",
    "test_preds = modelLR.predict(X_test)\n",
    "accuracy = accuracy_score(y_test, test_preds)\n",
    "cm = confusion_matrix(y_test, test_preds)\n",
    "recall = recall_score(y_test, test_preds)\n",
    "precision = precision_score(y_test, test_preds)\n",
    "f1_score = f1_score(y_test, test_preds)\n",
    "print(\"Recall Score:\", recall)\n",
    "print(\"f1_score:\",f1_score)\n",
    "print(\"Accuracy:\", accuracy)\n",
    "print(\"Confusion Matrix:\\n\", cm)\n",
    "print(\"precision:\",precision)"
   ]
  },
  {
   "cell_type": "markdown",
   "id": "24dd417d-7f89-4c3a-ad45-2de77db3cadb",
   "metadata": {},
   "source": [
    "This data consists only of the majority class since we sampled from it earlier, keeping the rest for validation. Now, we'll use the model to predict on this data and analyze its mistakes. If the model correctly identifies non-fraud cases, it means it has learned to distinguish between fraud and non-fraud."
   ]
  },
  {
   "cell_type": "code",
   "execution_count": 59,
   "id": "f2b2b816-932b-4372-8a24-ab3726b97ea8",
   "metadata": {},
   "outputs": [
    {
     "data": {
      "text/html": [
       "<div>\n",
       "<style scoped>\n",
       "    .dataframe tbody tr th:only-of-type {\n",
       "        vertical-align: middle;\n",
       "    }\n",
       "\n",
       "    .dataframe tbody tr th {\n",
       "        vertical-align: top;\n",
       "    }\n",
       "\n",
       "    .dataframe thead th {\n",
       "        text-align: right;\n",
       "    }\n",
       "</style>\n",
       "<table border=\"1\" class=\"dataframe\">\n",
       "  <thead>\n",
       "    <tr style=\"text-align: right;\">\n",
       "      <th></th>\n",
       "      <th>TransactionHour</th>\n",
       "      <th>TransactionType</th>\n",
       "      <th>TransactionAmount</th>\n",
       "      <th>SenderBalanceBefore</th>\n",
       "      <th>SenderBalanceAfter</th>\n",
       "      <th>ReceiverBalanceBefore</th>\n",
       "      <th>ReceiverBalanceAfter</th>\n",
       "      <th>IsFraud</th>\n",
       "    </tr>\n",
       "  </thead>\n",
       "  <tbody>\n",
       "    <tr>\n",
       "      <th>1143</th>\n",
       "      <td>1</td>\n",
       "      <td>PAYMENT</td>\n",
       "      <td>1864.28</td>\n",
       "      <td>21249.00</td>\n",
       "      <td>19384.72</td>\n",
       "      <td>0.0</td>\n",
       "      <td>0.0</td>\n",
       "      <td>0</td>\n",
       "    </tr>\n",
       "    <tr>\n",
       "      <th>1144</th>\n",
       "      <td>1</td>\n",
       "      <td>PAYMENT</td>\n",
       "      <td>11668.14</td>\n",
       "      <td>41554.00</td>\n",
       "      <td>29885.86</td>\n",
       "      <td>0.0</td>\n",
       "      <td>0.0</td>\n",
       "      <td>0</td>\n",
       "    </tr>\n",
       "    <tr>\n",
       "      <th>1146</th>\n",
       "      <td>1</td>\n",
       "      <td>PAYMENT</td>\n",
       "      <td>7107.77</td>\n",
       "      <td>183195.00</td>\n",
       "      <td>176087.23</td>\n",
       "      <td>0.0</td>\n",
       "      <td>0.0</td>\n",
       "      <td>0</td>\n",
       "    </tr>\n",
       "    <tr>\n",
       "      <th>1147</th>\n",
       "      <td>1</td>\n",
       "      <td>PAYMENT</td>\n",
       "      <td>7861.64</td>\n",
       "      <td>176087.23</td>\n",
       "      <td>168225.59</td>\n",
       "      <td>0.0</td>\n",
       "      <td>0.0</td>\n",
       "      <td>0</td>\n",
       "    </tr>\n",
       "    <tr>\n",
       "      <th>1148</th>\n",
       "      <td>1</td>\n",
       "      <td>PAYMENT</td>\n",
       "      <td>4024.36</td>\n",
       "      <td>2671.00</td>\n",
       "      <td>0.00</td>\n",
       "      <td>0.0</td>\n",
       "      <td>0.0</td>\n",
       "      <td>0</td>\n",
       "    </tr>\n",
       "  </tbody>\n",
       "</table>\n",
       "</div>"
      ],
      "text/plain": [
       "      TransactionHour TransactionType  TransactionAmount  SenderBalanceBefore  \\\n",
       "1143                1         PAYMENT            1864.28             21249.00   \n",
       "1144                1         PAYMENT           11668.14             41554.00   \n",
       "1146                1         PAYMENT            7107.77            183195.00   \n",
       "1147                1         PAYMENT            7861.64            176087.23   \n",
       "1148                1         PAYMENT            4024.36              2671.00   \n",
       "\n",
       "      SenderBalanceAfter  ReceiverBalanceBefore  ReceiverBalanceAfter  IsFraud  \n",
       "1143            19384.72                    0.0                   0.0        0  \n",
       "1144            29885.86                    0.0                   0.0        0  \n",
       "1146           176087.23                    0.0                   0.0        0  \n",
       "1147           168225.59                    0.0                   0.0        0  \n",
       "1148                0.00                    0.0                   0.0        0  "
      ]
     },
     "execution_count": 59,
     "metadata": {},
     "output_type": "execute_result"
    }
   ],
   "source": [
    "df_validation.head()"
   ]
  },
  {
   "cell_type": "markdown",
   "id": "8857e851-5342-4bf7-b87b-cba82b83e7ab",
   "metadata": {},
   "source": [
    "this data have ReceiverBalanceAfter that i removed modeltrain data so it should have drop this too."
   ]
  },
  {
   "cell_type": "code",
   "execution_count": 60,
   "id": "4ff45ec6-563a-4690-b4a9-bb0639af9aee",
   "metadata": {},
   "outputs": [],
   "source": [
    "df_validation = df_validation.drop(columns=[\"ReceiverBalanceAfter\" , \"SenderBalanceAfter\"])"
   ]
  },
  {
   "cell_type": "code",
   "execution_count": 61,
   "id": "98b64809-e2d9-4378-a467-63ee84cb0159",
   "metadata": {},
   "outputs": [
    {
     "data": {
      "text/html": [
       "<div>\n",
       "<style scoped>\n",
       "    .dataframe tbody tr th:only-of-type {\n",
       "        vertical-align: middle;\n",
       "    }\n",
       "\n",
       "    .dataframe tbody tr th {\n",
       "        vertical-align: top;\n",
       "    }\n",
       "\n",
       "    .dataframe thead th {\n",
       "        text-align: right;\n",
       "    }\n",
       "</style>\n",
       "<table border=\"1\" class=\"dataframe\">\n",
       "  <thead>\n",
       "    <tr style=\"text-align: right;\">\n",
       "      <th></th>\n",
       "      <th>TransactionHour</th>\n",
       "      <th>TransactionType</th>\n",
       "      <th>TransactionAmount</th>\n",
       "      <th>SenderBalanceBefore</th>\n",
       "      <th>ReceiverBalanceBefore</th>\n",
       "      <th>IsFraud</th>\n",
       "    </tr>\n",
       "  </thead>\n",
       "  <tbody>\n",
       "    <tr>\n",
       "      <th>3306</th>\n",
       "      <td>1</td>\n",
       "      <td>CASH_IN</td>\n",
       "      <td>51311.41</td>\n",
       "      <td>8037193.29</td>\n",
       "      <td>269173.62</td>\n",
       "      <td>0</td>\n",
       "    </tr>\n",
       "    <tr>\n",
       "      <th>10986</th>\n",
       "      <td>7</td>\n",
       "      <td>PAYMENT</td>\n",
       "      <td>24070.53</td>\n",
       "      <td>11599.00</td>\n",
       "      <td>0.00</td>\n",
       "      <td>0</td>\n",
       "    </tr>\n",
       "    <tr>\n",
       "      <th>4196</th>\n",
       "      <td>2</td>\n",
       "      <td>CASH_OUT</td>\n",
       "      <td>97601.12</td>\n",
       "      <td>217640.98</td>\n",
       "      <td>99684.00</td>\n",
       "      <td>0</td>\n",
       "    </tr>\n",
       "    <tr>\n",
       "      <th>6534</th>\n",
       "      <td>5</td>\n",
       "      <td>PAYMENT</td>\n",
       "      <td>3287.08</td>\n",
       "      <td>28574.00</td>\n",
       "      <td>0.00</td>\n",
       "      <td>0</td>\n",
       "    </tr>\n",
       "    <tr>\n",
       "      <th>4498</th>\n",
       "      <td>2</td>\n",
       "      <td>CASH_OUT</td>\n",
       "      <td>170099.02</td>\n",
       "      <td>41945.71</td>\n",
       "      <td>608063.00</td>\n",
       "      <td>0</td>\n",
       "    </tr>\n",
       "  </tbody>\n",
       "</table>\n",
       "</div>"
      ],
      "text/plain": [
       "       TransactionHour TransactionType  TransactionAmount  \\\n",
       "3306                 1         CASH_IN           51311.41   \n",
       "10986                7         PAYMENT           24070.53   \n",
       "4196                 2        CASH_OUT           97601.12   \n",
       "6534                 5         PAYMENT            3287.08   \n",
       "4498                 2        CASH_OUT          170099.02   \n",
       "\n",
       "       SenderBalanceBefore  ReceiverBalanceBefore  IsFraud  \n",
       "3306            8037193.29              269173.62        0  \n",
       "10986             11599.00                   0.00        0  \n",
       "4196             217640.98               99684.00        0  \n",
       "6534              28574.00                   0.00        0  \n",
       "4498              41945.71              608063.00        0  "
      ]
     },
     "execution_count": 61,
     "metadata": {},
     "output_type": "execute_result"
    }
   ],
   "source": [
    "df_validation.sample(5)"
   ]
  },
  {
   "cell_type": "markdown",
   "id": "96f261bb-2f83-4fcd-bffe-1ba18eae21f7",
   "metadata": {},
   "source": [
    "Before using the validation data, we need to preprocess and perform feature engineering to ensure consistency with the training data. This includes encoding categorical variables to match the format used during training so that the model can correctly interpret and process the data."
   ]
  },
  {
   "cell_type": "code",
   "execution_count": 62,
   "id": "679d829f-e909-4a7a-a226-684d0eb544e6",
   "metadata": {},
   "outputs": [],
   "source": [
    "def preprocess_validation_data(df):\n",
    "    # Categorizing TransactionHour\n",
    "    def categorize_transaction_hour(hour):\n",
    "        if hour <= 8:\n",
    "            return \"Low\"\n",
    "        elif hour <= 50: \n",
    "            return \"Medium\"\n",
    "        else:\n",
    "            return \"High\"\n",
    "\n",
    "    df[\"TransactionHour\"] = df[\"TransactionHour\"].apply(categorize_transaction_hour)\n",
    "    \n",
    "    # Label Encoding TransactionHour\n",
    "    le = LabelEncoder()\n",
    "    df[\"TransactionHour\"] = le.fit_transform(df[\"TransactionHour\"])\n",
    "\n",
    "    # One-Hot Encoding TransactionType\n",
    "    encoder = OneHotEncoder(drop=\"first\", dtype=int, sparse_output=False)\n",
    "    encoded = encoder.fit_transform(df[[\"TransactionType\"]])\n",
    "    df = df.drop(columns=[\"TransactionType\"])\n",
    "    df[encoder.get_feature_names_out([\"TransactionType\"])] = encoded\n",
    "\n",
    "    # Standard Scaling numeric columns\n",
    "    scaler = StandardScaler()\n",
    "    df[['TransactionAmount', 'SenderBalanceBefore','ReceiverBalanceBefore']] = scaler.fit_transform(\n",
    "        df[['TransactionAmount', 'SenderBalanceBefore','ReceiverBalanceBefore']]\n",
    "    )\n",
    "    return df"
   ]
  },
  {
   "cell_type": "code",
   "execution_count": 63,
   "id": "2e4fbf9e-7cbc-46d6-8f59-8083fa401b26",
   "metadata": {},
   "outputs": [],
   "source": [
    "df_validation = preprocess_validation_data(df_validation)"
   ]
  },
  {
   "cell_type": "code",
   "execution_count": 64,
   "id": "7a05fa06-0f9f-498b-888f-49e5a527797f",
   "metadata": {},
   "outputs": [
    {
     "data": {
      "text/html": [
       "<div>\n",
       "<style scoped>\n",
       "    .dataframe tbody tr th:only-of-type {\n",
       "        vertical-align: middle;\n",
       "    }\n",
       "\n",
       "    .dataframe tbody tr th {\n",
       "        vertical-align: top;\n",
       "    }\n",
       "\n",
       "    .dataframe thead th {\n",
       "        text-align: right;\n",
       "    }\n",
       "</style>\n",
       "<table border=\"1\" class=\"dataframe\">\n",
       "  <thead>\n",
       "    <tr style=\"text-align: right;\">\n",
       "      <th></th>\n",
       "      <th>TransactionHour</th>\n",
       "      <th>TransactionAmount</th>\n",
       "      <th>SenderBalanceBefore</th>\n",
       "      <th>ReceiverBalanceBefore</th>\n",
       "      <th>IsFraud</th>\n",
       "      <th>TransactionType_CASH_OUT</th>\n",
       "      <th>TransactionType_DEBIT</th>\n",
       "      <th>TransactionType_PAYMENT</th>\n",
       "      <th>TransactionType_TRANSFER</th>\n",
       "    </tr>\n",
       "  </thead>\n",
       "  <tbody>\n",
       "    <tr>\n",
       "      <th>7394</th>\n",
       "      <td>1</td>\n",
       "      <td>-0.395208</td>\n",
       "      <td>-0.30544</td>\n",
       "      <td>-0.305207</td>\n",
       "      <td>0</td>\n",
       "      <td>0</td>\n",
       "      <td>0</td>\n",
       "      <td>1</td>\n",
       "      <td>0</td>\n",
       "    </tr>\n",
       "  </tbody>\n",
       "</table>\n",
       "</div>"
      ],
      "text/plain": [
       "      TransactionHour  TransactionAmount  SenderBalanceBefore  \\\n",
       "7394                1          -0.395208             -0.30544   \n",
       "\n",
       "      ReceiverBalanceBefore  IsFraud  TransactionType_CASH_OUT  \\\n",
       "7394              -0.305207        0                         0   \n",
       "\n",
       "      TransactionType_DEBIT  TransactionType_PAYMENT  TransactionType_TRANSFER  \n",
       "7394                      0                        1                         0  "
      ]
     },
     "execution_count": 64,
     "metadata": {},
     "output_type": "execute_result"
    }
   ],
   "source": [
    "df2.head(1)"
   ]
  },
  {
   "cell_type": "code",
   "execution_count": 65,
   "id": "5b5b1bec-c02b-4f99-a59c-6c7e44d39774",
   "metadata": {},
   "outputs": [
    {
     "data": {
      "text/html": [
       "<div>\n",
       "<style scoped>\n",
       "    .dataframe tbody tr th:only-of-type {\n",
       "        vertical-align: middle;\n",
       "    }\n",
       "\n",
       "    .dataframe tbody tr th {\n",
       "        vertical-align: top;\n",
       "    }\n",
       "\n",
       "    .dataframe thead th {\n",
       "        text-align: right;\n",
       "    }\n",
       "</style>\n",
       "<table border=\"1\" class=\"dataframe\">\n",
       "  <thead>\n",
       "    <tr style=\"text-align: right;\">\n",
       "      <th></th>\n",
       "      <th>TransactionHour</th>\n",
       "      <th>TransactionAmount</th>\n",
       "      <th>SenderBalanceBefore</th>\n",
       "      <th>ReceiverBalanceBefore</th>\n",
       "      <th>IsFraud</th>\n",
       "      <th>TransactionType_CASH_OUT</th>\n",
       "      <th>TransactionType_DEBIT</th>\n",
       "      <th>TransactionType_PAYMENT</th>\n",
       "      <th>TransactionType_TRANSFER</th>\n",
       "    </tr>\n",
       "  </thead>\n",
       "  <tbody>\n",
       "    <tr>\n",
       "      <th>1143</th>\n",
       "      <td>0</td>\n",
       "      <td>-0.43886</td>\n",
       "      <td>-0.408236</td>\n",
       "      <td>-0.351565</td>\n",
       "      <td>0</td>\n",
       "      <td>0</td>\n",
       "      <td>0</td>\n",
       "      <td>1</td>\n",
       "      <td>0</td>\n",
       "    </tr>\n",
       "  </tbody>\n",
       "</table>\n",
       "</div>"
      ],
      "text/plain": [
       "      TransactionHour  TransactionAmount  SenderBalanceBefore  \\\n",
       "1143                0           -0.43886            -0.408236   \n",
       "\n",
       "      ReceiverBalanceBefore  IsFraud  TransactionType_CASH_OUT  \\\n",
       "1143              -0.351565        0                         0   \n",
       "\n",
       "      TransactionType_DEBIT  TransactionType_PAYMENT  TransactionType_TRANSFER  \n",
       "1143                      0                        1                         0  "
      ]
     },
     "execution_count": 65,
     "metadata": {},
     "output_type": "execute_result"
    }
   ],
   "source": [
    "df_validation.head(1)"
   ]
  },
  {
   "cell_type": "code",
   "execution_count": 101,
   "id": "c1aa58e8-ed79-450e-b98a-6e53aa30d93e",
   "metadata": {},
   "outputs": [
    {
     "name": "stdout",
     "output_type": "stream",
     "text": [
      "Validation Accuracy: 0.7766990291262136\n",
      "Confusion Matrix:\n",
      " [[6880 1978]\n",
      " [   0    0]]\n",
      "Recall Score: 0.0\n"
     ]
    },
    {
     "name": "stderr",
     "output_type": "stream",
     "text": [
      "C:\\Users\\HP\\AppData\\Local\\Programs\\Python\\Python312\\Lib\\site-packages\\sklearn\\metrics\\_classification.py:1531: UndefinedMetricWarning: Recall is ill-defined and being set to 0.0 due to no true samples. Use `zero_division` parameter to control this behavior.\n",
      "  _warn_prf(average, modifier, f\"{metric.capitalize()} is\", len(result))\n"
     ]
    }
   ],
   "source": [
    "X_val = df_validation.drop(columns=['IsFraud'])  \n",
    "y_val = df_validation['IsFraud']\n",
    "\n",
    "# Predict on validation data\n",
    "y_val_preds = modelLR.predict(X_val)\n",
    "\n",
    "val_accuracy = accuracy_score(y_val, y_val_preds)\n",
    "val_conf_matrix = confusion_matrix(y_val, y_val_preds)\n",
    "val_recall = recall_score(y_val, y_val_preds)\n",
    "\n",
    "print(\"Validation Accuracy:\", val_accuracy)\n",
    "print(\"Confusion Matrix:\\n\", val_conf_matrix)\n",
    "print(\"Recall Score:\", val_recall)"
   ]
  },
  {
   "cell_type": "code",
   "execution_count": 67,
   "id": "08254047-daeb-4efc-9064-b56fe691f17a",
   "metadata": {},
   "outputs": [
    {
     "data": {
      "text/plain": [
       "IsFraud\n",
       "0    8858\n",
       "Name: count, dtype: int64"
      ]
     },
     "execution_count": 67,
     "metadata": {},
     "output_type": "execute_result"
    }
   ],
   "source": [
    "df_validation[\"IsFraud\"].value_counts()"
   ]
  },
  {
   "cell_type": "markdown",
   "id": "8789b710-43a7-4bf1-b534-1872c019d3c4",
   "metadata": {},
   "source": [
    "When I tested the validation data with the model, it became biased toward non-fraud transactions because the validation set contained only non-fraud transactions. Due to this bias, the model only focused on identifying non-fraud cases. However, the recall score came out to be 0, which means the model did not detect a single fraud case. This issue occurred because the validation set was made up entirely of non-fraud transactions, meaning there were no fraud cases for the model to test against. As a result, the model predicted everything correctly as non-fraud, making the Type 2 error (False Negatives) zero. \n"
   ]
  },
  {
   "cell_type": "markdown",
   "id": "73bb2b93-b769-4083-96d9-695ad74b05de",
   "metadata": {},
   "source": [
    "# Backward elimination for Imbalanced dataset in Model-level changes.\n",
    "\n",
    "\n",
    "\n",
    "\n",
    "\n",
    "\n"
   ]
  },
  {
   "cell_type": "markdown",
   "id": "a879aae9-ccb7-4400-a7ae-0ace02f11efa",
   "metadata": {},
   "source": [
    "After undersampling, very little data was left. When we used the remaining data for validation purposes, it became biased because it mostly contained data from the majority class. As a result, changing the data distribution didn’t help. Now, we will make changes at the model level.\n",
    "\n",
    "Now, I will use the entire dataset but increase the weightage of the minority class to observe its impact first. This approach will help balance the influence of both classes without discarding any data."
   ]
  },
  {
   "cell_type": "code",
   "execution_count": 68,
   "id": "c8a4736e-ac61-4cea-864e-b455521901ef",
   "metadata": {},
   "outputs": [
    {
     "data": {
      "text/html": [
       "<div>\n",
       "<style scoped>\n",
       "    .dataframe tbody tr th:only-of-type {\n",
       "        vertical-align: middle;\n",
       "    }\n",
       "\n",
       "    .dataframe tbody tr th {\n",
       "        vertical-align: top;\n",
       "    }\n",
       "\n",
       "    .dataframe thead th {\n",
       "        text-align: right;\n",
       "    }\n",
       "</style>\n",
       "<table border=\"1\" class=\"dataframe\">\n",
       "  <thead>\n",
       "    <tr style=\"text-align: right;\">\n",
       "      <th></th>\n",
       "      <th>step</th>\n",
       "      <th>type</th>\n",
       "      <th>amount</th>\n",
       "      <th>nameOrig</th>\n",
       "      <th>oldbalanceOrg</th>\n",
       "      <th>newbalanceOrig</th>\n",
       "      <th>nameDest</th>\n",
       "      <th>oldbalanceDest</th>\n",
       "      <th>newbalanceDest</th>\n",
       "      <th>isFraud</th>\n",
       "    </tr>\n",
       "  </thead>\n",
       "  <tbody>\n",
       "    <tr>\n",
       "      <th>0</th>\n",
       "      <td>1</td>\n",
       "      <td>TRANSFER</td>\n",
       "      <td>181.0</td>\n",
       "      <td>C1305486145</td>\n",
       "      <td>181.0</td>\n",
       "      <td>0.0</td>\n",
       "      <td>C553264065</td>\n",
       "      <td>0.0</td>\n",
       "      <td>0.0</td>\n",
       "      <td>1</td>\n",
       "    </tr>\n",
       "    <tr>\n",
       "      <th>1</th>\n",
       "      <td>1</td>\n",
       "      <td>CASH_OUT</td>\n",
       "      <td>181.0</td>\n",
       "      <td>C840083671</td>\n",
       "      <td>181.0</td>\n",
       "      <td>0.0</td>\n",
       "      <td>C38997010</td>\n",
       "      <td>21182.0</td>\n",
       "      <td>0.0</td>\n",
       "      <td>1</td>\n",
       "    </tr>\n",
       "    <tr>\n",
       "      <th>2</th>\n",
       "      <td>1</td>\n",
       "      <td>TRANSFER</td>\n",
       "      <td>2806.0</td>\n",
       "      <td>C1420196421</td>\n",
       "      <td>2806.0</td>\n",
       "      <td>0.0</td>\n",
       "      <td>C972765878</td>\n",
       "      <td>0.0</td>\n",
       "      <td>0.0</td>\n",
       "      <td>1</td>\n",
       "    </tr>\n",
       "    <tr>\n",
       "      <th>3</th>\n",
       "      <td>1</td>\n",
       "      <td>CASH_OUT</td>\n",
       "      <td>2806.0</td>\n",
       "      <td>C2101527076</td>\n",
       "      <td>2806.0</td>\n",
       "      <td>0.0</td>\n",
       "      <td>C1007251739</td>\n",
       "      <td>26202.0</td>\n",
       "      <td>0.0</td>\n",
       "      <td>1</td>\n",
       "    </tr>\n",
       "    <tr>\n",
       "      <th>4</th>\n",
       "      <td>1</td>\n",
       "      <td>TRANSFER</td>\n",
       "      <td>20128.0</td>\n",
       "      <td>C137533655</td>\n",
       "      <td>20128.0</td>\n",
       "      <td>0.0</td>\n",
       "      <td>C1848415041</td>\n",
       "      <td>0.0</td>\n",
       "      <td>0.0</td>\n",
       "      <td>1</td>\n",
       "    </tr>\n",
       "  </tbody>\n",
       "</table>\n",
       "</div>"
      ],
      "text/plain": [
       "   step      type   amount     nameOrig  oldbalanceOrg  newbalanceOrig  \\\n",
       "0     1  TRANSFER    181.0  C1305486145          181.0             0.0   \n",
       "1     1  CASH_OUT    181.0   C840083671          181.0             0.0   \n",
       "2     1  TRANSFER   2806.0  C1420196421         2806.0             0.0   \n",
       "3     1  CASH_OUT   2806.0  C2101527076         2806.0             0.0   \n",
       "4     1  TRANSFER  20128.0   C137533655        20128.0             0.0   \n",
       "\n",
       "      nameDest  oldbalanceDest  newbalanceDest  isFraud  \n",
       "0   C553264065             0.0             0.0        1  \n",
       "1    C38997010         21182.0             0.0        1  \n",
       "2   C972765878             0.0             0.0        1  \n",
       "3  C1007251739         26202.0             0.0        1  \n",
       "4  C1848415041             0.0             0.0        1  "
      ]
     },
     "execution_count": 68,
     "metadata": {},
     "output_type": "execute_result"
    }
   ],
   "source": [
    "data.head()  # whole data "
   ]
  },
  {
   "cell_type": "code",
   "execution_count": 69,
   "id": "d5150acb-2770-460e-84cd-404e8d471dc2",
   "metadata": {},
   "outputs": [],
   "source": [
    "data = data.rename(columns={\n",
    "    \"step\": \"TransactionHour\",\n",
    "    \"type\": \"TransactionType\",\n",
    "    \"amount\": \"TransactionAmount\",\n",
    "    \"oldbalanceOrg\": \"SenderBalanceBefore\",\n",
    "    \"newbalanceOrig\": \"SenderBalanceAfter\",\n",
    "    \"oldbalanceDest\": \"ReceiverBalanceBefore\",\n",
    "    \"newbalanceDest\": \"ReceiverBalanceAfter\",\n",
    "    \"isFraud\": \"IsFraud\"\n",
    "})"
   ]
  },
  {
   "cell_type": "code",
   "execution_count": 70,
   "id": "3fcb1308-b244-446a-92ba-ef11201dd78d",
   "metadata": {},
   "outputs": [],
   "source": [
    "data2 = data.drop(columns=[\"nameOrig\",\"nameDest\",\"ReceiverBalanceAfter\" , \"SenderBalanceAfter\"])"
   ]
  },
  {
   "cell_type": "code",
   "execution_count": 71,
   "id": "7ef87e5c-d542-45de-ba51-fb2e438df6e1",
   "metadata": {},
   "outputs": [
    {
     "data": {
      "text/html": [
       "<div>\n",
       "<style scoped>\n",
       "    .dataframe tbody tr th:only-of-type {\n",
       "        vertical-align: middle;\n",
       "    }\n",
       "\n",
       "    .dataframe tbody tr th {\n",
       "        vertical-align: top;\n",
       "    }\n",
       "\n",
       "    .dataframe thead th {\n",
       "        text-align: right;\n",
       "    }\n",
       "</style>\n",
       "<table border=\"1\" class=\"dataframe\">\n",
       "  <thead>\n",
       "    <tr style=\"text-align: right;\">\n",
       "      <th></th>\n",
       "      <th>TransactionHour</th>\n",
       "      <th>TransactionType</th>\n",
       "      <th>TransactionAmount</th>\n",
       "      <th>SenderBalanceBefore</th>\n",
       "      <th>ReceiverBalanceBefore</th>\n",
       "      <th>IsFraud</th>\n",
       "    </tr>\n",
       "  </thead>\n",
       "  <tbody>\n",
       "    <tr>\n",
       "      <th>0</th>\n",
       "      <td>1</td>\n",
       "      <td>TRANSFER</td>\n",
       "      <td>181.0</td>\n",
       "      <td>181.0</td>\n",
       "      <td>0.0</td>\n",
       "      <td>1</td>\n",
       "    </tr>\n",
       "  </tbody>\n",
       "</table>\n",
       "</div>"
      ],
      "text/plain": [
       "   TransactionHour TransactionType  TransactionAmount  SenderBalanceBefore  \\\n",
       "0                1        TRANSFER              181.0                181.0   \n",
       "\n",
       "   ReceiverBalanceBefore  IsFraud  \n",
       "0                    0.0        1  "
      ]
     },
     "execution_count": 71,
     "metadata": {},
     "output_type": "execute_result"
    }
   ],
   "source": [
    "data2.head(1)"
   ]
  },
  {
   "cell_type": "code",
   "execution_count": 72,
   "id": "d3559c42-d400-4ea9-a27e-ea21310bf6e6",
   "metadata": {},
   "outputs": [],
   "source": [
    "wholedata = preprocess_validation_data(data2)"
   ]
  },
  {
   "cell_type": "code",
   "execution_count": 73,
   "id": "aca0f605-9712-4e2c-bc46-4ce001741e9b",
   "metadata": {},
   "outputs": [
    {
     "data": {
      "text/html": [
       "<div>\n",
       "<style scoped>\n",
       "    .dataframe tbody tr th:only-of-type {\n",
       "        vertical-align: middle;\n",
       "    }\n",
       "\n",
       "    .dataframe tbody tr th {\n",
       "        vertical-align: top;\n",
       "    }\n",
       "\n",
       "    .dataframe thead th {\n",
       "        text-align: right;\n",
       "    }\n",
       "</style>\n",
       "<table border=\"1\" class=\"dataframe\">\n",
       "  <thead>\n",
       "    <tr style=\"text-align: right;\">\n",
       "      <th></th>\n",
       "      <th>TransactionHour</th>\n",
       "      <th>TransactionAmount</th>\n",
       "      <th>SenderBalanceBefore</th>\n",
       "      <th>ReceiverBalanceBefore</th>\n",
       "      <th>IsFraud</th>\n",
       "      <th>TransactionType_CASH_OUT</th>\n",
       "      <th>TransactionType_DEBIT</th>\n",
       "      <th>TransactionType_PAYMENT</th>\n",
       "      <th>TransactionType_TRANSFER</th>\n",
       "    </tr>\n",
       "  </thead>\n",
       "  <tbody>\n",
       "    <tr>\n",
       "      <th>8972</th>\n",
       "      <td>1</td>\n",
       "      <td>-0.143104</td>\n",
       "      <td>0.898403</td>\n",
       "      <td>2.235358</td>\n",
       "      <td>0</td>\n",
       "      <td>0</td>\n",
       "      <td>0</td>\n",
       "      <td>0</td>\n",
       "      <td>0</td>\n",
       "    </tr>\n",
       "  </tbody>\n",
       "</table>\n",
       "</div>"
      ],
      "text/plain": [
       "      TransactionHour  TransactionAmount  SenderBalanceBefore  \\\n",
       "8972                1          -0.143104             0.898403   \n",
       "\n",
       "      ReceiverBalanceBefore  IsFraud  TransactionType_CASH_OUT  \\\n",
       "8972               2.235358        0                         0   \n",
       "\n",
       "      TransactionType_DEBIT  TransactionType_PAYMENT  TransactionType_TRANSFER  \n",
       "8972                      0                        0                         0  "
      ]
     },
     "execution_count": 73,
     "metadata": {},
     "output_type": "execute_result"
    }
   ],
   "source": [
    "wholedata.sample(1)"
   ]
  },
  {
   "cell_type": "code",
   "execution_count": 74,
   "id": "3fbd4050-561e-4759-9cbc-8798f93ce850",
   "metadata": {},
   "outputs": [],
   "source": [
    "X = wholedata.drop(columns=[\"IsFraud\"])\n",
    "y = wholedata[\"IsFraud\"] "
   ]
  },
  {
   "cell_type": "code",
   "execution_count": 75,
   "id": "898b5ac6-6b97-4ea5-9106-07b88a8f0238",
   "metadata": {},
   "outputs": [
    {
     "data": {
      "text/plain": [
       "((7799, 8), (3343, 8), (7799,), (3343,))"
      ]
     },
     "execution_count": 75,
     "metadata": {},
     "output_type": "execute_result"
    }
   ],
   "source": [
    "from sklearn.model_selection import train_test_split\n",
    "X_train, X_test, y_train, y_test = train_test_split(X, y, test_size=0.3, random_state=42)\n",
    "X_train.shape, X_test.shape, y_train.shape, y_test.shape"
   ]
  },
  {
   "cell_type": "code",
   "execution_count": 76,
   "id": "4f362ef9-4cd2-493d-8b4b-def8fc16d023",
   "metadata": {},
   "outputs": [
    {
     "data": {
      "text/html": [
       "<style>#sk-container-id-2 {\n",
       "  /* Definition of color scheme common for light and dark mode */\n",
       "  --sklearn-color-text: black;\n",
       "  --sklearn-color-line: gray;\n",
       "  /* Definition of color scheme for unfitted estimators */\n",
       "  --sklearn-color-unfitted-level-0: #fff5e6;\n",
       "  --sklearn-color-unfitted-level-1: #f6e4d2;\n",
       "  --sklearn-color-unfitted-level-2: #ffe0b3;\n",
       "  --sklearn-color-unfitted-level-3: chocolate;\n",
       "  /* Definition of color scheme for fitted estimators */\n",
       "  --sklearn-color-fitted-level-0: #f0f8ff;\n",
       "  --sklearn-color-fitted-level-1: #d4ebff;\n",
       "  --sklearn-color-fitted-level-2: #b3dbfd;\n",
       "  --sklearn-color-fitted-level-3: cornflowerblue;\n",
       "\n",
       "  /* Specific color for light theme */\n",
       "  --sklearn-color-text-on-default-background: var(--sg-text-color, var(--theme-code-foreground, var(--jp-content-font-color1, black)));\n",
       "  --sklearn-color-background: var(--sg-background-color, var(--theme-background, var(--jp-layout-color0, white)));\n",
       "  --sklearn-color-border-box: var(--sg-text-color, var(--theme-code-foreground, var(--jp-content-font-color1, black)));\n",
       "  --sklearn-color-icon: #696969;\n",
       "\n",
       "  @media (prefers-color-scheme: dark) {\n",
       "    /* Redefinition of color scheme for dark theme */\n",
       "    --sklearn-color-text-on-default-background: var(--sg-text-color, var(--theme-code-foreground, var(--jp-content-font-color1, white)));\n",
       "    --sklearn-color-background: var(--sg-background-color, var(--theme-background, var(--jp-layout-color0, #111)));\n",
       "    --sklearn-color-border-box: var(--sg-text-color, var(--theme-code-foreground, var(--jp-content-font-color1, white)));\n",
       "    --sklearn-color-icon: #878787;\n",
       "  }\n",
       "}\n",
       "\n",
       "#sk-container-id-2 {\n",
       "  color: var(--sklearn-color-text);\n",
       "}\n",
       "\n",
       "#sk-container-id-2 pre {\n",
       "  padding: 0;\n",
       "}\n",
       "\n",
       "#sk-container-id-2 input.sk-hidden--visually {\n",
       "  border: 0;\n",
       "  clip: rect(1px 1px 1px 1px);\n",
       "  clip: rect(1px, 1px, 1px, 1px);\n",
       "  height: 1px;\n",
       "  margin: -1px;\n",
       "  overflow: hidden;\n",
       "  padding: 0;\n",
       "  position: absolute;\n",
       "  width: 1px;\n",
       "}\n",
       "\n",
       "#sk-container-id-2 div.sk-dashed-wrapped {\n",
       "  border: 1px dashed var(--sklearn-color-line);\n",
       "  margin: 0 0.4em 0.5em 0.4em;\n",
       "  box-sizing: border-box;\n",
       "  padding-bottom: 0.4em;\n",
       "  background-color: var(--sklearn-color-background);\n",
       "}\n",
       "\n",
       "#sk-container-id-2 div.sk-container {\n",
       "  /* jupyter's `normalize.less` sets `[hidden] { display: none; }`\n",
       "     but bootstrap.min.css set `[hidden] { display: none !important; }`\n",
       "     so we also need the `!important` here to be able to override the\n",
       "     default hidden behavior on the sphinx rendered scikit-learn.org.\n",
       "     See: https://github.com/scikit-learn/scikit-learn/issues/21755 */\n",
       "  display: inline-block !important;\n",
       "  position: relative;\n",
       "}\n",
       "\n",
       "#sk-container-id-2 div.sk-text-repr-fallback {\n",
       "  display: none;\n",
       "}\n",
       "\n",
       "div.sk-parallel-item,\n",
       "div.sk-serial,\n",
       "div.sk-item {\n",
       "  /* draw centered vertical line to link estimators */\n",
       "  background-image: linear-gradient(var(--sklearn-color-text-on-default-background), var(--sklearn-color-text-on-default-background));\n",
       "  background-size: 2px 100%;\n",
       "  background-repeat: no-repeat;\n",
       "  background-position: center center;\n",
       "}\n",
       "\n",
       "/* Parallel-specific style estimator block */\n",
       "\n",
       "#sk-container-id-2 div.sk-parallel-item::after {\n",
       "  content: \"\";\n",
       "  width: 100%;\n",
       "  border-bottom: 2px solid var(--sklearn-color-text-on-default-background);\n",
       "  flex-grow: 1;\n",
       "}\n",
       "\n",
       "#sk-container-id-2 div.sk-parallel {\n",
       "  display: flex;\n",
       "  align-items: stretch;\n",
       "  justify-content: center;\n",
       "  background-color: var(--sklearn-color-background);\n",
       "  position: relative;\n",
       "}\n",
       "\n",
       "#sk-container-id-2 div.sk-parallel-item {\n",
       "  display: flex;\n",
       "  flex-direction: column;\n",
       "}\n",
       "\n",
       "#sk-container-id-2 div.sk-parallel-item:first-child::after {\n",
       "  align-self: flex-end;\n",
       "  width: 50%;\n",
       "}\n",
       "\n",
       "#sk-container-id-2 div.sk-parallel-item:last-child::after {\n",
       "  align-self: flex-start;\n",
       "  width: 50%;\n",
       "}\n",
       "\n",
       "#sk-container-id-2 div.sk-parallel-item:only-child::after {\n",
       "  width: 0;\n",
       "}\n",
       "\n",
       "/* Serial-specific style estimator block */\n",
       "\n",
       "#sk-container-id-2 div.sk-serial {\n",
       "  display: flex;\n",
       "  flex-direction: column;\n",
       "  align-items: center;\n",
       "  background-color: var(--sklearn-color-background);\n",
       "  padding-right: 1em;\n",
       "  padding-left: 1em;\n",
       "}\n",
       "\n",
       "\n",
       "/* Toggleable style: style used for estimator/Pipeline/ColumnTransformer box that is\n",
       "clickable and can be expanded/collapsed.\n",
       "- Pipeline and ColumnTransformer use this feature and define the default style\n",
       "- Estimators will overwrite some part of the style using the `sk-estimator` class\n",
       "*/\n",
       "\n",
       "/* Pipeline and ColumnTransformer style (default) */\n",
       "\n",
       "#sk-container-id-2 div.sk-toggleable {\n",
       "  /* Default theme specific background. It is overwritten whether we have a\n",
       "  specific estimator or a Pipeline/ColumnTransformer */\n",
       "  background-color: var(--sklearn-color-background);\n",
       "}\n",
       "\n",
       "/* Toggleable label */\n",
       "#sk-container-id-2 label.sk-toggleable__label {\n",
       "  cursor: pointer;\n",
       "  display: block;\n",
       "  width: 100%;\n",
       "  margin-bottom: 0;\n",
       "  padding: 0.5em;\n",
       "  box-sizing: border-box;\n",
       "  text-align: center;\n",
       "}\n",
       "\n",
       "#sk-container-id-2 label.sk-toggleable__label-arrow:before {\n",
       "  /* Arrow on the left of the label */\n",
       "  content: \"▸\";\n",
       "  float: left;\n",
       "  margin-right: 0.25em;\n",
       "  color: var(--sklearn-color-icon);\n",
       "}\n",
       "\n",
       "#sk-container-id-2 label.sk-toggleable__label-arrow:hover:before {\n",
       "  color: var(--sklearn-color-text);\n",
       "}\n",
       "\n",
       "/* Toggleable content - dropdown */\n",
       "\n",
       "#sk-container-id-2 div.sk-toggleable__content {\n",
       "  max-height: 0;\n",
       "  max-width: 0;\n",
       "  overflow: hidden;\n",
       "  text-align: left;\n",
       "  /* unfitted */\n",
       "  background-color: var(--sklearn-color-unfitted-level-0);\n",
       "}\n",
       "\n",
       "#sk-container-id-2 div.sk-toggleable__content.fitted {\n",
       "  /* fitted */\n",
       "  background-color: var(--sklearn-color-fitted-level-0);\n",
       "}\n",
       "\n",
       "#sk-container-id-2 div.sk-toggleable__content pre {\n",
       "  margin: 0.2em;\n",
       "  border-radius: 0.25em;\n",
       "  color: var(--sklearn-color-text);\n",
       "  /* unfitted */\n",
       "  background-color: var(--sklearn-color-unfitted-level-0);\n",
       "}\n",
       "\n",
       "#sk-container-id-2 div.sk-toggleable__content.fitted pre {\n",
       "  /* unfitted */\n",
       "  background-color: var(--sklearn-color-fitted-level-0);\n",
       "}\n",
       "\n",
       "#sk-container-id-2 input.sk-toggleable__control:checked~div.sk-toggleable__content {\n",
       "  /* Expand drop-down */\n",
       "  max-height: 200px;\n",
       "  max-width: 100%;\n",
       "  overflow: auto;\n",
       "}\n",
       "\n",
       "#sk-container-id-2 input.sk-toggleable__control:checked~label.sk-toggleable__label-arrow:before {\n",
       "  content: \"▾\";\n",
       "}\n",
       "\n",
       "/* Pipeline/ColumnTransformer-specific style */\n",
       "\n",
       "#sk-container-id-2 div.sk-label input.sk-toggleable__control:checked~label.sk-toggleable__label {\n",
       "  color: var(--sklearn-color-text);\n",
       "  background-color: var(--sklearn-color-unfitted-level-2);\n",
       "}\n",
       "\n",
       "#sk-container-id-2 div.sk-label.fitted input.sk-toggleable__control:checked~label.sk-toggleable__label {\n",
       "  background-color: var(--sklearn-color-fitted-level-2);\n",
       "}\n",
       "\n",
       "/* Estimator-specific style */\n",
       "\n",
       "/* Colorize estimator box */\n",
       "#sk-container-id-2 div.sk-estimator input.sk-toggleable__control:checked~label.sk-toggleable__label {\n",
       "  /* unfitted */\n",
       "  background-color: var(--sklearn-color-unfitted-level-2);\n",
       "}\n",
       "\n",
       "#sk-container-id-2 div.sk-estimator.fitted input.sk-toggleable__control:checked~label.sk-toggleable__label {\n",
       "  /* fitted */\n",
       "  background-color: var(--sklearn-color-fitted-level-2);\n",
       "}\n",
       "\n",
       "#sk-container-id-2 div.sk-label label.sk-toggleable__label,\n",
       "#sk-container-id-2 div.sk-label label {\n",
       "  /* The background is the default theme color */\n",
       "  color: var(--sklearn-color-text-on-default-background);\n",
       "}\n",
       "\n",
       "/* On hover, darken the color of the background */\n",
       "#sk-container-id-2 div.sk-label:hover label.sk-toggleable__label {\n",
       "  color: var(--sklearn-color-text);\n",
       "  background-color: var(--sklearn-color-unfitted-level-2);\n",
       "}\n",
       "\n",
       "/* Label box, darken color on hover, fitted */\n",
       "#sk-container-id-2 div.sk-label.fitted:hover label.sk-toggleable__label.fitted {\n",
       "  color: var(--sklearn-color-text);\n",
       "  background-color: var(--sklearn-color-fitted-level-2);\n",
       "}\n",
       "\n",
       "/* Estimator label */\n",
       "\n",
       "#sk-container-id-2 div.sk-label label {\n",
       "  font-family: monospace;\n",
       "  font-weight: bold;\n",
       "  display: inline-block;\n",
       "  line-height: 1.2em;\n",
       "}\n",
       "\n",
       "#sk-container-id-2 div.sk-label-container {\n",
       "  text-align: center;\n",
       "}\n",
       "\n",
       "/* Estimator-specific */\n",
       "#sk-container-id-2 div.sk-estimator {\n",
       "  font-family: monospace;\n",
       "  border: 1px dotted var(--sklearn-color-border-box);\n",
       "  border-radius: 0.25em;\n",
       "  box-sizing: border-box;\n",
       "  margin-bottom: 0.5em;\n",
       "  /* unfitted */\n",
       "  background-color: var(--sklearn-color-unfitted-level-0);\n",
       "}\n",
       "\n",
       "#sk-container-id-2 div.sk-estimator.fitted {\n",
       "  /* fitted */\n",
       "  background-color: var(--sklearn-color-fitted-level-0);\n",
       "}\n",
       "\n",
       "/* on hover */\n",
       "#sk-container-id-2 div.sk-estimator:hover {\n",
       "  /* unfitted */\n",
       "  background-color: var(--sklearn-color-unfitted-level-2);\n",
       "}\n",
       "\n",
       "#sk-container-id-2 div.sk-estimator.fitted:hover {\n",
       "  /* fitted */\n",
       "  background-color: var(--sklearn-color-fitted-level-2);\n",
       "}\n",
       "\n",
       "/* Specification for estimator info (e.g. \"i\" and \"?\") */\n",
       "\n",
       "/* Common style for \"i\" and \"?\" */\n",
       "\n",
       ".sk-estimator-doc-link,\n",
       "a:link.sk-estimator-doc-link,\n",
       "a:visited.sk-estimator-doc-link {\n",
       "  float: right;\n",
       "  font-size: smaller;\n",
       "  line-height: 1em;\n",
       "  font-family: monospace;\n",
       "  background-color: var(--sklearn-color-background);\n",
       "  border-radius: 1em;\n",
       "  height: 1em;\n",
       "  width: 1em;\n",
       "  text-decoration: none !important;\n",
       "  margin-left: 1ex;\n",
       "  /* unfitted */\n",
       "  border: var(--sklearn-color-unfitted-level-1) 1pt solid;\n",
       "  color: var(--sklearn-color-unfitted-level-1);\n",
       "}\n",
       "\n",
       ".sk-estimator-doc-link.fitted,\n",
       "a:link.sk-estimator-doc-link.fitted,\n",
       "a:visited.sk-estimator-doc-link.fitted {\n",
       "  /* fitted */\n",
       "  border: var(--sklearn-color-fitted-level-1) 1pt solid;\n",
       "  color: var(--sklearn-color-fitted-level-1);\n",
       "}\n",
       "\n",
       "/* On hover */\n",
       "div.sk-estimator:hover .sk-estimator-doc-link:hover,\n",
       ".sk-estimator-doc-link:hover,\n",
       "div.sk-label-container:hover .sk-estimator-doc-link:hover,\n",
       ".sk-estimator-doc-link:hover {\n",
       "  /* unfitted */\n",
       "  background-color: var(--sklearn-color-unfitted-level-3);\n",
       "  color: var(--sklearn-color-background);\n",
       "  text-decoration: none;\n",
       "}\n",
       "\n",
       "div.sk-estimator.fitted:hover .sk-estimator-doc-link.fitted:hover,\n",
       ".sk-estimator-doc-link.fitted:hover,\n",
       "div.sk-label-container:hover .sk-estimator-doc-link.fitted:hover,\n",
       ".sk-estimator-doc-link.fitted:hover {\n",
       "  /* fitted */\n",
       "  background-color: var(--sklearn-color-fitted-level-3);\n",
       "  color: var(--sklearn-color-background);\n",
       "  text-decoration: none;\n",
       "}\n",
       "\n",
       "/* Span, style for the box shown on hovering the info icon */\n",
       ".sk-estimator-doc-link span {\n",
       "  display: none;\n",
       "  z-index: 9999;\n",
       "  position: relative;\n",
       "  font-weight: normal;\n",
       "  right: .2ex;\n",
       "  padding: .5ex;\n",
       "  margin: .5ex;\n",
       "  width: min-content;\n",
       "  min-width: 20ex;\n",
       "  max-width: 50ex;\n",
       "  color: var(--sklearn-color-text);\n",
       "  box-shadow: 2pt 2pt 4pt #999;\n",
       "  /* unfitted */\n",
       "  background: var(--sklearn-color-unfitted-level-0);\n",
       "  border: .5pt solid var(--sklearn-color-unfitted-level-3);\n",
       "}\n",
       "\n",
       ".sk-estimator-doc-link.fitted span {\n",
       "  /* fitted */\n",
       "  background: var(--sklearn-color-fitted-level-0);\n",
       "  border: var(--sklearn-color-fitted-level-3);\n",
       "}\n",
       "\n",
       ".sk-estimator-doc-link:hover span {\n",
       "  display: block;\n",
       "}\n",
       "\n",
       "/* \"?\"-specific style due to the `<a>` HTML tag */\n",
       "\n",
       "#sk-container-id-2 a.estimator_doc_link {\n",
       "  float: right;\n",
       "  font-size: 1rem;\n",
       "  line-height: 1em;\n",
       "  font-family: monospace;\n",
       "  background-color: var(--sklearn-color-background);\n",
       "  border-radius: 1rem;\n",
       "  height: 1rem;\n",
       "  width: 1rem;\n",
       "  text-decoration: none;\n",
       "  /* unfitted */\n",
       "  color: var(--sklearn-color-unfitted-level-1);\n",
       "  border: var(--sklearn-color-unfitted-level-1) 1pt solid;\n",
       "}\n",
       "\n",
       "#sk-container-id-2 a.estimator_doc_link.fitted {\n",
       "  /* fitted */\n",
       "  border: var(--sklearn-color-fitted-level-1) 1pt solid;\n",
       "  color: var(--sklearn-color-fitted-level-1);\n",
       "}\n",
       "\n",
       "/* On hover */\n",
       "#sk-container-id-2 a.estimator_doc_link:hover {\n",
       "  /* unfitted */\n",
       "  background-color: var(--sklearn-color-unfitted-level-3);\n",
       "  color: var(--sklearn-color-background);\n",
       "  text-decoration: none;\n",
       "}\n",
       "\n",
       "#sk-container-id-2 a.estimator_doc_link.fitted:hover {\n",
       "  /* fitted */\n",
       "  background-color: var(--sklearn-color-fitted-level-3);\n",
       "}\n",
       "</style><div id=\"sk-container-id-2\" class=\"sk-top-container\"><div class=\"sk-text-repr-fallback\"><pre>LogisticRegression(class_weight={0: 1, 1: 9})</pre><b>In a Jupyter environment, please rerun this cell to show the HTML representation or trust the notebook. <br />On GitHub, the HTML representation is unable to render, please try loading this page with nbviewer.org.</b></div><div class=\"sk-container\" hidden><div class=\"sk-item\"><div class=\"sk-estimator fitted sk-toggleable\"><input class=\"sk-toggleable__control sk-hidden--visually\" id=\"sk-estimator-id-2\" type=\"checkbox\" checked><label for=\"sk-estimator-id-2\" class=\"sk-toggleable__label fitted sk-toggleable__label-arrow fitted\">&nbsp;&nbsp;LogisticRegression<a class=\"sk-estimator-doc-link fitted\" rel=\"noreferrer\" target=\"_blank\" href=\"https://scikit-learn.org/1.5/modules/generated/sklearn.linear_model.LogisticRegression.html\">?<span>Documentation for LogisticRegression</span></a><span class=\"sk-estimator-doc-link fitted\">i<span>Fitted</span></span></label><div class=\"sk-toggleable__content fitted\"><pre>LogisticRegression(class_weight={0: 1, 1: 9})</pre></div> </div></div></div></div>"
      ],
      "text/plain": [
       "LogisticRegression(class_weight={0: 1, 1: 9})"
      ]
     },
     "execution_count": 76,
     "metadata": {},
     "output_type": "execute_result"
    }
   ],
   "source": [
    "from sklearn.linear_model import LogisticRegression\n",
    "\n",
    "class_weights = {0: 1, 1: 9}  # Approx 9x weight giving because of ratio 90:10 \n",
    "\n",
    "LRmodel2 = LogisticRegression(class_weight=class_weights)\n",
    "LRmodel2.fit(X_train, y_train)"
   ]
  },
  {
   "cell_type": "code",
   "execution_count": 77,
   "id": "a623aa65-839e-4317-a0bf-fd5b9c0a1e2f",
   "metadata": {},
   "outputs": [
    {
     "name": "stdout",
     "output_type": "stream",
     "text": [
      "0.8254904474932684\n"
     ]
    }
   ],
   "source": [
    "train_pred = LRmodel2.predict(X_train)\n",
    "accuracy = accuracy_score(y_train, train_pred)\n",
    "print(accuracy)"
   ]
  },
  {
   "cell_type": "code",
   "execution_count": 78,
   "id": "8c5a192e-8e75-450e-97b1-10e67d426a2b",
   "metadata": {},
   "outputs": [
    {
     "name": "stdout",
     "output_type": "stream",
     "text": [
      "Recall Score: 0.9855907780979827\n",
      "f1_score: 0.5574572127139364\n",
      "Accuracy: 0.8375710439724798\n",
      "Confusion Matrix:\n",
      " [[2458  538]\n",
      " [   5  342]]\n",
      "precision: 0.3886363636363636\n"
     ]
    }
   ],
   "source": [
    "from sklearn.metrics import accuracy_score, recall_score, precision_score, f1_score, confusion_matrix\n",
    "\n",
    "test_pred = LRmodel2.predict(X_test)\n",
    "accuracy = accuracy_score(y_test, test_pred)\n",
    "cm = confusion_matrix(y_test, test_pred)\n",
    "recall = recall_score(y_test, test_pred)\n",
    "precision = precision_score(y_test, test_pred)\n",
    "f1 = f1_score(y_test, test_pred)\n",
    "print(\"Recall Score:\", recall)\n",
    "print(\"f1_score:\",f1)\n",
    "print(\"Accuracy:\", accuracy)\n",
    "print(\"Confusion Matrix:\\n\", cm)\n",
    "print(\"precision:\",precision)"
   ]
  },
  {
   "cell_type": "markdown",
   "id": "722065b0-4c07-498c-bc6f-7f760d5d8ca5",
   "metadata": {},
   "source": [
    "now i check the performance in whole data "
   ]
  },
  {
   "cell_type": "code",
   "execution_count": 79,
   "id": "41bd3c41-b996-4c39-8b45-ebba5aa0ad13",
   "metadata": {},
   "outputs": [
    {
     "name": "stdout",
     "output_type": "stream",
     "text": [
      "0.8291150601328308\n"
     ]
    }
   ],
   "source": [
    "predwhole = LRmodel2.predict(X)\n",
    "accuracy = accuracy_score(y, predwhole)\n",
    "print(accuracy)"
   ]
  },
  {
   "cell_type": "code",
   "execution_count": 80,
   "id": "612e0f93-f60d-4e65-a96d-fdca2afaf751",
   "metadata": {},
   "outputs": [
    {
     "name": "stdout",
     "output_type": "stream",
     "text": [
      "confusion_matrix [[8116 1884]\n",
      " [  20 1122]]\n",
      "recall 0.9824868651488616\n",
      "precision 0.37325349301397204\n"
     ]
    }
   ],
   "source": [
    "cm = confusion_matrix(y, predwhole)\n",
    "recall = recall_score(y, predwhole)\n",
    "precision = precision_score(y, predwhole)\n",
    "print(\"confusion_matrix\",cm)\n",
    "print(\"recall\",recall)\n",
    "print(\"precision\", precision)"
   ]
  },
  {
   "cell_type": "code",
   "execution_count": 81,
   "id": "b687bee1-5de5-469a-bae6-5fc903f2f1cf",
   "metadata": {},
   "outputs": [
    {
     "name": "stdout",
     "output_type": "stream",
     "text": [
      "Cross-Validation Scores: [0.82948718 0.82948718 0.81602564 0.82371795 0.82488775]\n",
      "Mean Accuracy: 0.8247\n"
     ]
    }
   ],
   "source": [
    "from sklearn.model_selection import cross_val_score\n",
    "\n",
    "cv_scores = cross_val_score(LRmodel2, X_train, y_train, cv=5, scoring='accuracy')\n",
    "print(f\"Cross-Validation Scores: {cv_scores}\")\n",
    "print(f\"Mean Accuracy: {cv_scores.mean():.4f}\")"
   ]
  },
  {
   "cell_type": "markdown",
   "id": "a29a0f8a-5f81-492b-82ea-504fc6542df0",
   "metadata": {},
   "source": [
    "Model improvements are performing well and noticeable have been observed in Model level changes\n",
    "\n",
    "\n",
    "\n",
    "\n",
    "\n",
    "\n"
   ]
  },
  {
   "cell_type": "markdown",
   "id": "436609e2-758b-4d04-9530-e2a69ae57e15",
   "metadata": {},
   "source": [
    "Now, we will use different algorithms to achieve better accuracy and minimize errors on the train, test, and whole dataset.\n",
    "\n",
    "\n",
    "\n",
    "\n",
    "\n",
    "\n"
   ]
  },
  {
   "cell_type": "code",
   "execution_count": 85,
   "id": "67964225-d908-4e13-af04-638d8a538dbd",
   "metadata": {},
   "outputs": [
    {
     "name": "stdout",
     "output_type": "stream",
     "text": [
      "Fitting 5 folds for each of 324 candidates, totalling 1620 fits\n",
      "Best Parameters: {'class_weight': {0: 1, 1: 7}, 'max_depth': 5, 'min_samples_leaf': 4, 'min_samples_split': 10, 'n_estimators': 100}\n"
     ]
    }
   ],
   "source": [
    "from sklearn.model_selection import GridSearchCV\n",
    "from sklearn.ensemble import RandomForestClassifier\n",
    "\n",
    "param_grid = {\n",
    "    'n_estimators': [100, 120,130],  \n",
    "    'max_depth': [3 ,4, 5],       \n",
    "    'min_samples_split': [8 , 9 ,10],  \n",
    "    'min_samples_leaf': [4, 5, 6 , 8],  \n",
    "    'class_weight': [{0: 1, 1: 7}, {0: 1, 1: 8}, {0: 1, 1: 9}]  # Different class weight options\n",
    "}\n",
    "\n",
    "RF_model = RandomForestClassifier(random_state=42)\n",
    "\n",
    "grid_search = GridSearchCV(RF_model, param_grid, cv=5, scoring='accuracy', n_jobs=-1, verbose=1)\n",
    "grid_search.fit(X_train, y_train)\n",
    "\n",
    "best_params = grid_search.best_params_\n",
    "print(\"Best Parameters:\", best_params)"
   ]
  },
  {
   "cell_type": "code",
   "execution_count": 86,
   "id": "a7bb58fa-5663-4357-b10f-b34444ac8af0",
   "metadata": {},
   "outputs": [
    {
     "name": "stdout",
     "output_type": "stream",
     "text": [
      "Train Accuracy: 0.9901\n"
     ]
    }
   ],
   "source": [
    "RF_best_model = RandomForestClassifier(\n",
    "    class_weight={0: 1, 1: 7}, \n",
    "    max_depth=5, \n",
    "    min_samples_leaf=4, \n",
    "    min_samples_split=10, \n",
    "    n_estimators=100, \n",
    "    random_state=42\n",
    ")\n",
    "\n",
    "RF_best_model.fit(X_train, y_train)\n",
    "\n",
    "train_preds = RF_best_model.predict(X_train)\n",
    "\n",
    "train_accuracy = accuracy_score(y_train, train_preds)\n",
    "print(f\"Train Accuracy: {train_accuracy:.4f}\")"
   ]
  },
  {
   "cell_type": "code",
   "execution_count": 87,
   "id": "6eb6e8e8-a765-406d-835c-43c30d834793",
   "metadata": {},
   "outputs": [
    {
     "name": "stdout",
     "output_type": "stream",
     "text": [
      "Recall Score: 0.9769452449567724\n",
      "f1_score: 0.9509116409537167\n",
      "Accuracy: 0.989530361950344\n",
      "Confusion Matrix:\n",
      " [[2969   27]\n",
      " [   8  339]]\n",
      "precision: 0.9262295081967213\n"
     ]
    }
   ],
   "source": [
    "test_pred = RF_best_model.predict(X_test)\n",
    "accuracy = accuracy_score(y_test, test_pred)\n",
    "cm = confusion_matrix(y_test, test_pred)\n",
    "recall = recall_score(y_test, test_pred)\n",
    "precision = precision_score(y_test, test_pred)\n",
    "f1 = f1_score(y_test, test_pred)\n",
    "print(\"Recall Score:\", recall)\n",
    "print(\"f1_score:\",f1)\n",
    "print(\"Accuracy:\", accuracy)\n",
    "print(\"Confusion Matrix:\\n\", cm)\n",
    "print(\"precision:\",precision)"
   ]
  },
  {
   "cell_type": "code",
   "execution_count": 88,
   "id": "cc0822d4-6ed4-4065-9ebb-006c05a27020",
   "metadata": {},
   "outputs": [
    {
     "name": "stdout",
     "output_type": "stream",
     "text": [
      "Cross-Validation Scores: [0.99076923 0.99282051 0.98871795 0.98564103 0.99179487 0.98666667\n",
      " 0.99282051 0.98870637]\n",
      "Mean Accuracy: 0.9897\n"
     ]
    }
   ],
   "source": [
    "from sklearn.model_selection import cross_val_score\n",
    "\n",
    "cv_scores = cross_val_score(RF_best_model, X_train, y_train, cv=8, scoring='accuracy')\n",
    "print(f\"Cross-Validation Scores: {cv_scores}\")\n",
    "print(f\"Mean Accuracy: {cv_scores.mean():.4f}\")"
   ]
  },
  {
   "cell_type": "code",
   "execution_count": 89,
   "id": "92fe1fec-5da5-4ace-84a1-f1a50d520656",
   "metadata": {},
   "outputs": [
    {
     "data": {
      "text/html": [
       "<div>\n",
       "<style scoped>\n",
       "    .dataframe tbody tr th:only-of-type {\n",
       "        vertical-align: middle;\n",
       "    }\n",
       "\n",
       "    .dataframe tbody tr th {\n",
       "        vertical-align: top;\n",
       "    }\n",
       "\n",
       "    .dataframe thead th {\n",
       "        text-align: right;\n",
       "    }\n",
       "</style>\n",
       "<table border=\"1\" class=\"dataframe\">\n",
       "  <thead>\n",
       "    <tr style=\"text-align: right;\">\n",
       "      <th></th>\n",
       "      <th>Feature</th>\n",
       "      <th>Importance</th>\n",
       "    </tr>\n",
       "  </thead>\n",
       "  <tbody>\n",
       "    <tr>\n",
       "      <th>0</th>\n",
       "      <td>TransactionHour</td>\n",
       "      <td>0.334880</td>\n",
       "    </tr>\n",
       "    <tr>\n",
       "      <th>1</th>\n",
       "      <td>TransactionAmount</td>\n",
       "      <td>0.169486</td>\n",
       "    </tr>\n",
       "    <tr>\n",
       "      <th>2</th>\n",
       "      <td>SenderBalanceBefore</td>\n",
       "      <td>0.106184</td>\n",
       "    </tr>\n",
       "    <tr>\n",
       "      <th>3</th>\n",
       "      <td>ReceiverBalanceBefore</td>\n",
       "      <td>0.084822</td>\n",
       "    </tr>\n",
       "    <tr>\n",
       "      <th>4</th>\n",
       "      <td>TransactionType_CASH_OUT</td>\n",
       "      <td>0.087189</td>\n",
       "    </tr>\n",
       "    <tr>\n",
       "      <th>5</th>\n",
       "      <td>TransactionType_DEBIT</td>\n",
       "      <td>0.004479</td>\n",
       "    </tr>\n",
       "    <tr>\n",
       "      <th>6</th>\n",
       "      <td>TransactionType_PAYMENT</td>\n",
       "      <td>0.116170</td>\n",
       "    </tr>\n",
       "    <tr>\n",
       "      <th>7</th>\n",
       "      <td>TransactionType_TRANSFER</td>\n",
       "      <td>0.096789</td>\n",
       "    </tr>\n",
       "  </tbody>\n",
       "</table>\n",
       "</div>"
      ],
      "text/plain": [
       "                    Feature  Importance\n",
       "0           TransactionHour    0.334880\n",
       "1         TransactionAmount    0.169486\n",
       "2       SenderBalanceBefore    0.106184\n",
       "3     ReceiverBalanceBefore    0.084822\n",
       "4  TransactionType_CASH_OUT    0.087189\n",
       "5     TransactionType_DEBIT    0.004479\n",
       "6   TransactionType_PAYMENT    0.116170\n",
       "7  TransactionType_TRANSFER    0.096789"
      ]
     },
     "execution_count": 89,
     "metadata": {},
     "output_type": "execute_result"
    }
   ],
   "source": [
    "feature_importance = RF_best_model.feature_importances_\n",
    "feature_df = pd.DataFrame({'Feature': X_train.columns, 'Importance': feature_importance})\n",
    "\n",
    "feature_df "
   ]
  },
  {
   "cell_type": "code",
   "execution_count": 90,
   "id": "8f7ca5aa-6536-4940-bf68-8e2dae398ca9",
   "metadata": {},
   "outputs": [
    {
     "name": "stdout",
     "output_type": "stream",
     "text": [
      "0.989947944713696\n"
     ]
    }
   ],
   "source": [
    "predwhole = RF_best_model.predict(X)\n",
    "accuracy = accuracy_score(y, predwhole)\n",
    "print(accuracy)"
   ]
  },
  {
   "cell_type": "code",
   "execution_count": 91,
   "id": "b9953802-225f-4685-8ad3-b516b47956bf",
   "metadata": {},
   "outputs": [
    {
     "name": "stdout",
     "output_type": "stream",
     "text": [
      "confusion_matrix [[9909   91]\n",
      " [  21 1121]]\n",
      "recall 0.9816112084063048\n",
      "precision 0.9249174917491749\n"
     ]
    }
   ],
   "source": [
    "cm = confusion_matrix(y, predwhole)\n",
    "recall = recall_score(y, predwhole)\n",
    "precision = precision_score(y, predwhole)\n",
    "print(\"confusion_matrix\",cm)\n",
    "print(\"recall\",recall)\n",
    "print(\"precision\", precision)"
   ]
  },
  {
   "cell_type": "markdown",
   "id": "9ff0430d-3271-45de-9d2f-dd5cf2c921a0",
   "metadata": {},
   "source": [
    "We applied Random Forest with the best parameters, reduced errors, and improved accuracy. Then, we used it to predict the entire dataset, achieving better results than Logistic Regression. Now, we will try to further reduce its error using Gradient Boosting."
   ]
  },
  {
   "cell_type": "code",
   "execution_count": 92,
   "id": "cb55bc35-585a-4ecb-9419-e0b64fdfd164",
   "metadata": {},
   "outputs": [
    {
     "name": "stdout",
     "output_type": "stream",
     "text": [
      "Train Accuracy: 0.9959\n"
     ]
    }
   ],
   "source": [
    "from sklearn.ensemble import GradientBoostingClassifier\n",
    "import numpy as np\n",
    "\n",
    "class_weights = {0: 1, 1: 7}\n",
    "\n",
    "sample_weights = np.where(y_train == 1, class_weights[1], class_weights[0])\n",
    "\n",
    "GB_best_model = GradientBoostingClassifier(\n",
    "    n_estimators=100, \n",
    "    max_depth=3, \n",
    "    min_samples_leaf=4, \n",
    "    min_samples_split=8, \n",
    "    random_state=42\n",
    ")\n",
    "\n",
    "GB_best_model.fit(X_train, y_train, sample_weight=sample_weights)\n",
    "\n",
    "train_preds = GB_best_model.predict(X_train)\n",
    "train_accuracy = accuracy_score(y_train, train_preds)\n",
    "\n",
    "print(f\"Train Accuracy: {train_accuracy:.4f}\")"
   ]
  },
  {
   "cell_type": "code",
   "execution_count": 93,
   "id": "de8d9f13-3305-42d4-a613-1427db485e60",
   "metadata": {},
   "outputs": [
    {
     "name": "stdout",
     "output_type": "stream",
     "text": [
      "Recall Score: 0.9827089337175793\n",
      "f1_score: 0.9673758865248226\n",
      "Accuracy: 0.9931199521387974\n",
      "Confusion Matrix:\n",
      " [[2979   17]\n",
      " [   6  341]]\n",
      "precision: 0.952513966480447\n"
     ]
    }
   ],
   "source": [
    "test_pred = GB_best_model.predict(X_test)\n",
    "accuracy = accuracy_score(y_test, test_pred)\n",
    "cm = confusion_matrix(y_test, test_pred)\n",
    "recall = recall_score(y_test, test_pred)\n",
    "precision = precision_score(y_test, test_pred)\n",
    "f1 = f1_score(y_test, test_pred)\n",
    "print(\"Recall Score:\", recall)\n",
    "print(\"f1_score:\",f1)\n",
    "print(\"Accuracy:\", accuracy)\n",
    "print(\"Confusion Matrix:\\n\", cm)\n",
    "print(\"precision:\",precision)"
   ]
  },
  {
   "cell_type": "code",
   "execution_count": 94,
   "id": "4c575d41-42c6-4ac6-9e0a-4ccf7b531e77",
   "metadata": {},
   "outputs": [
    {
     "name": "stdout",
     "output_type": "stream",
     "text": [
      "Cross-Validation Scores: [0.99615385 0.99551282 0.99038462 0.99487179 0.99679282]\n",
      "Mean Accuracy: 0.9947\n"
     ]
    }
   ],
   "source": [
    "from sklearn.model_selection import cross_val_score\n",
    "\n",
    "cv_scores = cross_val_score(GB_best_model, X_train, y_train, cv=5, scoring='accuracy')\n",
    "\n",
    "print(f\"Cross-Validation Scores: {cv_scores}\")\n",
    "print(f\"Mean Accuracy: {cv_scores.mean():.4f}\")"
   ]
  },
  {
   "cell_type": "code",
   "execution_count": 95,
   "id": "a8fcf83b-00c5-4cd3-ae7e-e2d8761c619e",
   "metadata": {},
   "outputs": [
    {
     "data": {
      "text/html": [
       "<div>\n",
       "<style scoped>\n",
       "    .dataframe tbody tr th:only-of-type {\n",
       "        vertical-align: middle;\n",
       "    }\n",
       "\n",
       "    .dataframe tbody tr th {\n",
       "        vertical-align: top;\n",
       "    }\n",
       "\n",
       "    .dataframe thead th {\n",
       "        text-align: right;\n",
       "    }\n",
       "</style>\n",
       "<table border=\"1\" class=\"dataframe\">\n",
       "  <thead>\n",
       "    <tr style=\"text-align: right;\">\n",
       "      <th></th>\n",
       "      <th>Feature</th>\n",
       "      <th>Importance</th>\n",
       "    </tr>\n",
       "  </thead>\n",
       "  <tbody>\n",
       "    <tr>\n",
       "      <th>0</th>\n",
       "      <td>TransactionHour</td>\n",
       "      <td>0.644439</td>\n",
       "    </tr>\n",
       "    <tr>\n",
       "      <th>6</th>\n",
       "      <td>TransactionType_PAYMENT</td>\n",
       "      <td>0.154409</td>\n",
       "    </tr>\n",
       "    <tr>\n",
       "      <th>3</th>\n",
       "      <td>ReceiverBalanceBefore</td>\n",
       "      <td>0.104553</td>\n",
       "    </tr>\n",
       "    <tr>\n",
       "      <th>4</th>\n",
       "      <td>TransactionType_CASH_OUT</td>\n",
       "      <td>0.068751</td>\n",
       "    </tr>\n",
       "    <tr>\n",
       "      <th>2</th>\n",
       "      <td>SenderBalanceBefore</td>\n",
       "      <td>0.010720</td>\n",
       "    </tr>\n",
       "    <tr>\n",
       "      <th>7</th>\n",
       "      <td>TransactionType_TRANSFER</td>\n",
       "      <td>0.007935</td>\n",
       "    </tr>\n",
       "    <tr>\n",
       "      <th>1</th>\n",
       "      <td>TransactionAmount</td>\n",
       "      <td>0.007818</td>\n",
       "    </tr>\n",
       "    <tr>\n",
       "      <th>5</th>\n",
       "      <td>TransactionType_DEBIT</td>\n",
       "      <td>0.001376</td>\n",
       "    </tr>\n",
       "  </tbody>\n",
       "</table>\n",
       "</div>"
      ],
      "text/plain": [
       "                    Feature  Importance\n",
       "0           TransactionHour    0.644439\n",
       "6   TransactionType_PAYMENT    0.154409\n",
       "3     ReceiverBalanceBefore    0.104553\n",
       "4  TransactionType_CASH_OUT    0.068751\n",
       "2       SenderBalanceBefore    0.010720\n",
       "7  TransactionType_TRANSFER    0.007935\n",
       "1         TransactionAmount    0.007818\n",
       "5     TransactionType_DEBIT    0.001376"
      ]
     },
     "execution_count": 95,
     "metadata": {},
     "output_type": "execute_result"
    }
   ],
   "source": [
    "feature_importance = GB_best_model.feature_importances_\n",
    "feature_df = pd.DataFrame({'Feature': X_train.columns, 'Importance': feature_importance})\n",
    "feature_df = feature_df.sort_values(by='Importance', ascending=False)\n",
    "feature_df"
   ]
  },
  {
   "cell_type": "markdown",
   "id": "b5b8edfa-4544-4803-bc52-af74bb6bb788",
   "metadata": {},
   "source": [
    "I applied Gradient Boosting and observed that it further reduced the errors of Random Forest. After cross-validation, the model remained consistent across different folds, as the mean accuracy (0.9968) is high and the variance is low."
   ]
  },
  {
   "cell_type": "code",
   "execution_count": 96,
   "id": "25572fc3-1998-4b0b-9272-ef789b8dccd9",
   "metadata": {},
   "outputs": [
    {
     "name": "stdout",
     "output_type": "stream",
     "text": [
      "confusion_matrix [[9953   47]\n",
      " [   8 1134]]\n",
      "recall 0.9929947460595446\n",
      "precision 0.9602032176121931\n",
      "accuracy 0.9950637228504757\n"
     ]
    }
   ],
   "source": [
    "predwhole = GB_best_model.predict(X)\n",
    "accuracy = accuracy_score(y, predwhole)\n",
    "cm = confusion_matrix(y, predwhole)\n",
    "recall = recall_score(y, predwhole)\n",
    "precision = precision_score(y, predwhole)\n",
    "print(\"confusion_matrix\",cm)\n",
    "print(\"recall\",recall)\n",
    "print(\"precision\", precision)\n",
    "print(\"accuracy\",accuracy)"
   ]
  },
  {
   "cell_type": "markdown",
   "id": "1e48c280-0634-4feb-8892-4ebbd49368e9",
   "metadata": {},
   "source": [
    "The GB_best_model has a lower error rate across the entire dataset compared to other models. This makes it my best-performing model so far, and therefore, I accept it for solving my business problem.\n",
    "\n",
    "\n",
    "\n",
    "\n",
    "\n"
   ]
  },
  {
   "cell_type": "markdown",
   "id": "a994cac8-cbe6-4585-972d-31bdc0b100b2",
   "metadata": {},
   "source": [
    "# Import the Gradient Boost model into the file for making predictions."
   ]
  },
  {
   "cell_type": "code",
   "execution_count": 97,
   "id": "516ded26-5b4a-4b9d-975d-e8020e8581f0",
   "metadata": {},
   "outputs": [],
   "source": [
    "import pickle\n",
    "with open(\"GB_best_model.pkl\", \"wb\") as model_file:\n",
    "    pickle.dump(GB_best_model, model_file)"
   ]
  },
  {
   "cell_type": "code",
   "execution_count": 98,
   "id": "5516001c-4f82-45a6-b630-d7741d0dd68b",
   "metadata": {},
   "outputs": [],
   "source": [
    "with open(\"GB_best_model.pkl\", \"rb\") as model_file:\n",
    "    loaded_model = pickle.load(model_file)"
   ]
  },
  {
   "cell_type": "code",
   "execution_count": 99,
   "id": "3bea4d2f-3ebc-44cb-8303-142c0d819790",
   "metadata": {},
   "outputs": [
    {
     "name": "stdout",
     "output_type": "stream",
     "text": [
      "confusion_matrix [[9953   47]\n",
      " [   8 1134]]\n",
      "recall 0.9929947460595446\n",
      "precision 0.9602032176121931\n",
      "accuracy 0.9950637228504757\n"
     ]
    }
   ],
   "source": [
    "predwhole = loaded_model.predict(X)\n",
    "accuracy = accuracy_score(y, predwhole)\n",
    "cm = confusion_matrix(y, predwhole)\n",
    "recall = recall_score(y, predwhole)\n",
    "precision = precision_score(y, predwhole)\n",
    "print(\"confusion_matrix\",cm)\n",
    "print(\"recall\",recall)\n",
    "print(\"precision\", precision)\n",
    "print(\"accuracy\",accuracy)"
   ]
  },
  {
   "cell_type": "code",
   "execution_count": 100,
   "id": "2b88e39a-d889-4442-81ef-b97b485939a0",
   "metadata": {},
   "outputs": [
    {
     "name": "stdout",
     "output_type": "stream",
     "text": [
      "[0 1 0 ... 0 0 0]\n"
     ]
    }
   ],
   "source": [
    "y_pred = loaded_model.predict(X_test) \n",
    "print(y_pred) "
   ]
  },
  {
   "cell_type": "code",
   "execution_count": null,
   "id": "4b775d39-fefe-4f77-8b10-42bb483a2710",
   "metadata": {},
   "outputs": [],
   "source": []
  }
 ],
 "metadata": {
  "kernelspec": {
   "display_name": "Python 3 (ipykernel)",
   "language": "python",
   "name": "python3"
  },
  "language_info": {
   "codemirror_mode": {
    "name": "ipython",
    "version": 3
   },
   "file_extension": ".py",
   "mimetype": "text/x-python",
   "name": "python",
   "nbconvert_exporter": "python",
   "pygments_lexer": "ipython3",
   "version": "3.12.2"
  }
 },
 "nbformat": 4,
 "nbformat_minor": 5
}
